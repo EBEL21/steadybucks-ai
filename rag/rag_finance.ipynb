{
 "cells": [
  {
   "metadata": {
    "ExecuteTime": {
     "end_time": "2025-01-30T02:56:27.607194Z",
     "start_time": "2025-01-30T02:56:17.610014Z"
    }
   },
   "cell_type": "code",
   "source": [
    "from bs4 import SoupStrainer\n",
    "import getpass\n",
    "import os\n",
    "from dataclasses import dataclass\n",
    "import logging\n",
    "from typing import List\n",
    "\n",
    "import faiss\n",
    "from langchain.schema import Document\n",
    "from langchain_community.vectorstores import FAISS\n",
    "from langchain_community.docstore.in_memory import InMemoryDocstore\n",
    "from langchain_huggingface import HuggingFaceEmbeddings\n",
    "from langchain_text_splitters import RecursiveCharacterTextSplitter\n",
    "from langchain_openai import ChatOpenAI\n",
    "from langchain_core.runnables import RunnablePassthrough\n",
    "from langchain_core.output_parsers import StrOutputParser\n",
    "from langchain_community.document_loaders import WebBaseLoader\n",
    "\n",
    "# -- MultiQueryRetriever (LangChain) \n",
    "from langchain.retrievers.multi_query import MultiQueryRetriever\n",
    "from langchain.prompts.prompt import PromptTemplate\n",
    "\n",
    "# For the custom multi-query generation approach\n",
    "from transformers import pipeline, AutoTokenizer, AutoModelForCausalLM\n",
    "\n",
    "# For Reranking\n",
    "from sentence_transformers import CrossEncoder\n",
    "from langchain.retrievers import ContextualCompressionRetriever\n",
    "from langchain_community.cross_encoders import HuggingFaceCrossEncoder"
   ],
   "id": "ebb6ca3b67e0290c",
   "outputs": [
    {
     "name": "stderr",
     "output_type": "stream",
     "text": [
      "USER_AGENT environment variable not set, consider setting it to identify your requests.\n"
     ]
    }
   ],
   "execution_count": 1
  },
  {
   "metadata": {
    "ExecuteTime": {
     "end_time": "2025-01-30T02:56:36.294832Z",
     "start_time": "2025-01-30T02:56:34.478076Z"
    }
   },
   "cell_type": "code",
   "source": "os.environ[\"OPENAI_API_KEY\"] = getpass.getpass(\"Enter API key for OpenAI: \")",
   "id": "e0c6fd31a6e5aad2",
   "outputs": [],
   "execution_count": 2
  },
  {
   "metadata": {
    "ExecuteTime": {
     "end_time": "2025-01-30T02:56:41.523293Z",
     "start_time": "2025-01-30T02:56:40.480970Z"
    }
   },
   "cell_type": "code",
   "source": [
    "os.environ[\"LANGCHAIN_TRACING_V2\"] = \"true\"\n",
    "os.environ[\"LANGCHAIN_ENDPOINT\"] = \"https://api.smith.langchain.com\"\n",
    "os.environ[\"LANGCHAIN_API_KEY\"] = getpass.getpass(\"Enter your LangSmith API key: \")\n",
    "os.environ[\"LANGCHAIN_PROJECT\"] = \"RAG-MultiQuery-Reranker\""
   ],
   "id": "99ca24a861c87f18",
   "outputs": [],
   "execution_count": 3
  },
  {
   "metadata": {},
   "cell_type": "markdown",
   "source": "## Logging, Config 설정",
   "id": "1ff5045139937ec6"
  },
  {
   "metadata": {
    "ExecuteTime": {
     "end_time": "2025-01-30T02:56:43.466143Z",
     "start_time": "2025-01-30T02:56:43.461553Z"
    }
   },
   "cell_type": "code",
   "source": [
    "# Logging\n",
    "logging.basicConfig(\n",
    "    level=logging.INFO,\n",
    "    format=\"%(asctime)s [%(levelname)s] %(name)s - %(message)s\"\n",
    ")\n",
    "logger = logging.getLogger(\"RAG-MultiQuery-Reranker\")"
   ],
   "id": "56b6ed7f264ea0d4",
   "outputs": [],
   "execution_count": 4
  },
  {
   "metadata": {
    "ExecuteTime": {
     "end_time": "2025-01-30T03:42:15.059506Z",
     "start_time": "2025-01-30T03:42:15.054832Z"
    }
   },
   "cell_type": "code",
   "source": [
    "@dataclass\n",
    "class RAGConfig:\n",
    "    \"\"\"\n",
    "    Holds configuration for the RAG pipeline.\n",
    "    \"\"\"\n",
    "    data_dir: str = \"./naver_stock_data\"  # Directory with raw texts\n",
    "    chunk_size: int = 1000\n",
    "    chunk_overlap: int = 100\n",
    "    embedding_model: str = \"intfloat/multilingual-e5-large-instruct\"\n",
    "    vector_store_dir: str = \"./chroma_naver_stock\"\n",
    "    openai_model_name: str = \"gpt-4o-mini\"  # or \"gpt-4\"\n",
    "    multiquery_prompt_template: str = (\n",
    "        \"You are an AI assisting a financial analyst. The user query is:\\n\"\n",
    "        \"{question}\\n\"\n",
    "        \"Rewrite this single query into multiple distinct queries that focus on different aspects \"\n",
    "        \"of the stock/financial domain. At least 3 variants, ensuring coverage of:\\n\"\n",
    "        \"- Different time frames\\n\"\n",
    "        \"- Different possible financial terms or synonyms\\n\"\n",
    "        \"- Additional detail or context about the company or market trends\\n\"\n",
    "        \"You must create query by korean language and don't create blank query\"\n",
    "    )\n",
    "    top_k: int = 30\n",
    "    rerank_top_k: int = 5\n",
    "    rerank_model_name: str = \"cross-encoder/ms-marco-MiniLM-L-12-v2\""
   ],
   "id": "e4cd487e47f6f7f4",
   "outputs": [],
   "execution_count": 43
  },
  {
   "metadata": {},
   "cell_type": "markdown",
   "source": "## Document Index 생성",
   "id": "331ddecf760892e3"
  },
  {
   "metadata": {
    "ExecuteTime": {
     "end_time": "2025-01-30T02:59:01.229792Z",
     "start_time": "2025-01-30T02:58:06.428620Z"
    }
   },
   "cell_type": "code",
   "source": [
    "# embedding 모델 로드\n",
    "embedding_fn = HuggingFaceEmbeddings(model_name=RAGConfig.embedding_model)\n",
    "dimension_size = len(embedding_fn.embed_query(\"hello world\"))\n",
    "print(dimension_size)"
   ],
   "id": "e12a6698f384e412",
   "outputs": [
    {
     "name": "stderr",
     "output_type": "stream",
     "text": [
      "2025-01-30 11:58:06,464 [INFO] sentence_transformers.SentenceTransformer - Use pytorch device_name: cuda\n",
      "2025-01-30 11:58:06,464 [INFO] sentence_transformers.SentenceTransformer - Load pretrained SentenceTransformer: intfloat/multilingual-e5-large-instruct\n"
     ]
    },
    {
     "name": "stdout",
     "output_type": "stream",
     "text": [
      "1024\n"
     ]
    }
   ],
   "execution_count": 7
  },
  {
   "metadata": {
    "ExecuteTime": {
     "end_time": "2025-01-30T03:01:51.798919Z",
     "start_time": "2025-01-30T03:01:51.560011Z"
    }
   },
   "cell_type": "code",
   "source": [
    "# Create new FAISS vectorstore\n",
    "vector_db = FAISS(\n",
    "    embedding_function=embedding_fn,\n",
    "    index=faiss.IndexFlatL2(dimension_size),\n",
    "    docstore=InMemoryDocstore(),\n",
    "    index_to_docstore_id={},\n",
    ")\n",
    "\n",
    "# If you already have local faiss, just load it\n",
    "# vector_db = FAISS.load_local(\"./vectorstore/naver_news_faiss\", index_name=\"index\", embeddings=embedding_fn,\n",
    "#                              allow_dangerous_deserialization=True)"
   ],
   "id": "f973740e6ef8d789",
   "outputs": [],
   "execution_count": 17
  },
  {
   "metadata": {},
   "cell_type": "code",
   "outputs": [],
   "execution_count": 89,
   "source": [
    "# crawling finance news from naver\n",
    "from datetime import datetime, timedelta\n",
    "from naver_news_crawling import extract_num_pagination, extract_news_links, HEADERS\n",
    "\n",
    "def add_news_into_db():\n",
    "    daily_news_link_prefix = \"https://finance.naver.com/news/mainnews.naver?date=\"\n",
    "    # 오늘 날짜\n",
    "    start_date = datetime(2025, 1, 1)\n",
    "    end_date = datetime.today()\n",
    "    cur_date = start_date\n",
    "    text_splitter = RecursiveCharacterTextSplitter(chunk_size=1000, chunk_overlap=100)\n",
    "    while cur_date <= end_date:\n",
    "        date_string = cur_date.strftime(\"%Y-%m-%d\")\n",
    "        daily_news_link = daily_news_link_prefix + date_string\n",
    "\n",
    "        last_page = extract_num_pagination(daily_news_link)\n",
    "        for i in range(int(last_page)):\n",
    "            page_news_link = daily_news_link + f\"&page={i + 1}\"\n",
    "            news_link_list = extract_news_links(page_news_link)\n",
    "            loader = WebBaseLoader(\n",
    "                web_paths=news_link_list,\n",
    "                bs_kwargs=dict(\n",
    "                    parse_only=SoupStrainer(\n",
    "                        \"div\",\n",
    "                        attrs={\"class\": [\"newsct_article _article_body\", \"media_end_head_title\"]},\n",
    "                    )\n",
    "                ),\n",
    "                header_template=HEADERS\n",
    "            )\n",
    "            docs = loader.load()\n",
    "            for doc in docs:\n",
    "                doc.metadata['date'] = date_string\n",
    "            split_docs = text_splitter.split_documents(docs)\n",
    "            vector_db.add_documents(split_docs)\n",
    "            print(f\"URL: {page_news_link} / num of docs: {len(docs)} / num of chunks: {len(split_docs)}\")\n",
    "        cur_date += timedelta(days=1)"
   ],
   "id": "3bbfcc5bc576d3a8"
  },
  {
   "metadata": {},
   "cell_type": "code",
   "outputs": [
    {
     "name": "stdout",
     "output_type": "stream",
     "text": [
      "URL: https://finance.naver.com/news/mainnews.naver?date=2025-01-01&page=1 / num of docs: 20 / num of chunks: 45\n",
      "URL: https://finance.naver.com/news/mainnews.naver?date=2025-01-01&page=2 / num of docs: 20 / num of chunks: 49\n",
      "URL: https://finance.naver.com/news/mainnews.naver?date=2025-01-01&page=3 / num of docs: 20 / num of chunks: 52\n",
      "URL: https://finance.naver.com/news/mainnews.naver?date=2025-01-01&page=4 / num of docs: 20 / num of chunks: 56\n",
      "URL: https://finance.naver.com/news/mainnews.naver?date=2025-01-01&page=5 / num of docs: 20 / num of chunks: 80\n",
      "URL: https://finance.naver.com/news/mainnews.naver?date=2025-01-01&page=6 / num of docs: 4 / num of chunks: 17\n",
      "URL: https://finance.naver.com/news/mainnews.naver?date=2025-01-02&page=1 / num of docs: 20 / num of chunks: 47\n",
      "URL: https://finance.naver.com/news/mainnews.naver?date=2025-01-02&page=2 / num of docs: 20 / num of chunks: 62\n",
      "URL: https://finance.naver.com/news/mainnews.naver?date=2025-01-02&page=3 / num of docs: 20 / num of chunks: 54\n",
      "URL: https://finance.naver.com/news/mainnews.naver?date=2025-01-02&page=4 / num of docs: 20 / num of chunks: 61\n",
      "URL: https://finance.naver.com/news/mainnews.naver?date=2025-01-02&page=5 / num of docs: 20 / num of chunks: 60\n",
      "URL: https://finance.naver.com/news/mainnews.naver?date=2025-01-02&page=6 / num of docs: 20 / num of chunks: 45\n",
      "URL: https://finance.naver.com/news/mainnews.naver?date=2025-01-02&page=7 / num of docs: 20 / num of chunks: 39\n",
      "URL: https://finance.naver.com/news/mainnews.naver?date=2025-01-02&page=8 / num of docs: 20 / num of chunks: 63\n",
      "URL: https://finance.naver.com/news/mainnews.naver?date=2025-01-02&page=9 / num of docs: 20 / num of chunks: 46\n",
      "URL: https://finance.naver.com/news/mainnews.naver?date=2025-01-02&page=10 / num of docs: 20 / num of chunks: 40\n",
      "URL: https://finance.naver.com/news/mainnews.naver?date=2025-01-02&page=11 / num of docs: 20 / num of chunks: 43\n",
      "URL: https://finance.naver.com/news/mainnews.naver?date=2025-01-02&page=12 / num of docs: 20 / num of chunks: 62\n",
      "URL: https://finance.naver.com/news/mainnews.naver?date=2025-01-02&page=13 / num of docs: 7 / num of chunks: 24\n",
      "URL: https://finance.naver.com/news/mainnews.naver?date=2025-01-03&page=1 / num of docs: 20 / num of chunks: 45\n",
      "URL: https://finance.naver.com/news/mainnews.naver?date=2025-01-03&page=2 / num of docs: 20 / num of chunks: 50\n",
      "URL: https://finance.naver.com/news/mainnews.naver?date=2025-01-03&page=3 / num of docs: 20 / num of chunks: 36\n",
      "URL: https://finance.naver.com/news/mainnews.naver?date=2025-01-03&page=4 / num of docs: 20 / num of chunks: 45\n",
      "URL: https://finance.naver.com/news/mainnews.naver?date=2025-01-03&page=5 / num of docs: 20 / num of chunks: 45\n",
      "URL: https://finance.naver.com/news/mainnews.naver?date=2025-01-03&page=6 / num of docs: 20 / num of chunks: 47\n",
      "URL: https://finance.naver.com/news/mainnews.naver?date=2025-01-03&page=7 / num of docs: 20 / num of chunks: 39\n",
      "URL: https://finance.naver.com/news/mainnews.naver?date=2025-01-03&page=8 / num of docs: 20 / num of chunks: 53\n",
      "URL: https://finance.naver.com/news/mainnews.naver?date=2025-01-03&page=9 / num of docs: 20 / num of chunks: 66\n",
      "URL: https://finance.naver.com/news/mainnews.naver?date=2025-01-03&page=10 / num of docs: 9 / num of chunks: 32\n",
      "URL: https://finance.naver.com/news/mainnews.naver?date=2025-01-04&page=1 / num of docs: 20 / num of chunks: 69\n",
      "URL: https://finance.naver.com/news/mainnews.naver?date=2025-01-04&page=2 / num of docs: 20 / num of chunks: 67\n",
      "URL: https://finance.naver.com/news/mainnews.naver?date=2025-01-04&page=3 / num of docs: 9 / num of chunks: 29\n",
      "URL: https://finance.naver.com/news/mainnews.naver?date=2025-01-05&page=1 / num of docs: 20 / num of chunks: 54\n",
      "URL: https://finance.naver.com/news/mainnews.naver?date=2025-01-05&page=2 / num of docs: 20 / num of chunks: 51\n",
      "URL: https://finance.naver.com/news/mainnews.naver?date=2025-01-05&page=3 / num of docs: 20 / num of chunks: 56\n",
      "URL: https://finance.naver.com/news/mainnews.naver?date=2025-01-05&page=4 / num of docs: 20 / num of chunks: 55\n",
      "URL: https://finance.naver.com/news/mainnews.naver?date=2025-01-05&page=5 / num of docs: 20 / num of chunks: 65\n",
      "URL: https://finance.naver.com/news/mainnews.naver?date=2025-01-05&page=6 / num of docs: 16 / num of chunks: 57\n",
      "URL: https://finance.naver.com/news/mainnews.naver?date=2025-01-06&page=1 / num of docs: 20 / num of chunks: 56\n",
      "URL: https://finance.naver.com/news/mainnews.naver?date=2025-01-06&page=2 / num of docs: 20 / num of chunks: 56\n",
      "URL: https://finance.naver.com/news/mainnews.naver?date=2025-01-06&page=3 / num of docs: 20 / num of chunks: 60\n",
      "URL: https://finance.naver.com/news/mainnews.naver?date=2025-01-06&page=4 / num of docs: 20 / num of chunks: 66\n",
      "URL: https://finance.naver.com/news/mainnews.naver?date=2025-01-06&page=5 / num of docs: 20 / num of chunks: 58\n",
      "URL: https://finance.naver.com/news/mainnews.naver?date=2025-01-06&page=6 / num of docs: 20 / num of chunks: 56\n",
      "URL: https://finance.naver.com/news/mainnews.naver?date=2025-01-06&page=7 / num of docs: 20 / num of chunks: 47\n",
      "URL: https://finance.naver.com/news/mainnews.naver?date=2025-01-06&page=8 / num of docs: 20 / num of chunks: 57\n",
      "URL: https://finance.naver.com/news/mainnews.naver?date=2025-01-06&page=9 / num of docs: 20 / num of chunks: 46\n",
      "URL: https://finance.naver.com/news/mainnews.naver?date=2025-01-06&page=10 / num of docs: 20 / num of chunks: 69\n",
      "URL: https://finance.naver.com/news/mainnews.naver?date=2025-01-06&page=11 / num of docs: 9 / num of chunks: 31\n",
      "URL: https://finance.naver.com/news/mainnews.naver?date=2025-01-07&page=1 / num of docs: 20 / num of chunks: 53\n",
      "URL: https://finance.naver.com/news/mainnews.naver?date=2025-01-07&page=2 / num of docs: 20 / num of chunks: 54\n",
      "URL: https://finance.naver.com/news/mainnews.naver?date=2025-01-07&page=3 / num of docs: 20 / num of chunks: 58\n",
      "URL: https://finance.naver.com/news/mainnews.naver?date=2025-01-07&page=4 / num of docs: 20 / num of chunks: 47\n",
      "URL: https://finance.naver.com/news/mainnews.naver?date=2025-01-07&page=5 / num of docs: 20 / num of chunks: 64\n",
      "URL: https://finance.naver.com/news/mainnews.naver?date=2025-01-07&page=6 / num of docs: 20 / num of chunks: 48\n",
      "URL: https://finance.naver.com/news/mainnews.naver?date=2025-01-07&page=7 / num of docs: 20 / num of chunks: 58\n",
      "URL: https://finance.naver.com/news/mainnews.naver?date=2025-01-07&page=8 / num of docs: 20 / num of chunks: 63\n",
      "URL: https://finance.naver.com/news/mainnews.naver?date=2025-01-07&page=9 / num of docs: 13 / num of chunks: 48\n",
      "URL: https://finance.naver.com/news/mainnews.naver?date=2025-01-08&page=1 / num of docs: 20 / num of chunks: 52\n",
      "URL: https://finance.naver.com/news/mainnews.naver?date=2025-01-08&page=2 / num of docs: 20 / num of chunks: 69\n",
      "URL: https://finance.naver.com/news/mainnews.naver?date=2025-01-08&page=3 / num of docs: 20 / num of chunks: 54\n",
      "URL: https://finance.naver.com/news/mainnews.naver?date=2025-01-08&page=4 / num of docs: 20 / num of chunks: 61\n",
      "URL: https://finance.naver.com/news/mainnews.naver?date=2025-01-08&page=5 / num of docs: 20 / num of chunks: 55\n",
      "URL: https://finance.naver.com/news/mainnews.naver?date=2025-01-08&page=6 / num of docs: 20 / num of chunks: 61\n",
      "URL: https://finance.naver.com/news/mainnews.naver?date=2025-01-08&page=7 / num of docs: 20 / num of chunks: 67\n",
      "URL: https://finance.naver.com/news/mainnews.naver?date=2025-01-08&page=8 / num of docs: 20 / num of chunks: 65\n",
      "URL: https://finance.naver.com/news/mainnews.naver?date=2025-01-08&page=9 / num of docs: 3 / num of chunks: 10\n",
      "URL: https://finance.naver.com/news/mainnews.naver?date=2025-01-09&page=1 / num of docs: 20 / num of chunks: 53\n",
      "URL: https://finance.naver.com/news/mainnews.naver?date=2025-01-09&page=2 / num of docs: 20 / num of chunks: 53\n",
      "URL: https://finance.naver.com/news/mainnews.naver?date=2025-01-09&page=3 / num of docs: 20 / num of chunks: 72\n",
      "URL: https://finance.naver.com/news/mainnews.naver?date=2025-01-09&page=4 / num of docs: 20 / num of chunks: 66\n",
      "URL: https://finance.naver.com/news/mainnews.naver?date=2025-01-09&page=5 / num of docs: 20 / num of chunks: 60\n",
      "URL: https://finance.naver.com/news/mainnews.naver?date=2025-01-09&page=6 / num of docs: 20 / num of chunks: 52\n",
      "URL: https://finance.naver.com/news/mainnews.naver?date=2025-01-09&page=7 / num of docs: 20 / num of chunks: 64\n",
      "URL: https://finance.naver.com/news/mainnews.naver?date=2025-01-09&page=8 / num of docs: 20 / num of chunks: 72\n",
      "URL: https://finance.naver.com/news/mainnews.naver?date=2025-01-09&page=9 / num of docs: 5 / num of chunks: 15\n",
      "URL: https://finance.naver.com/news/mainnews.naver?date=2025-01-10&page=1 / num of docs: 20 / num of chunks: 66\n",
      "URL: https://finance.naver.com/news/mainnews.naver?date=2025-01-10&page=2 / num of docs: 20 / num of chunks: 46\n",
      "URL: https://finance.naver.com/news/mainnews.naver?date=2025-01-10&page=3 / num of docs: 20 / num of chunks: 45\n",
      "URL: https://finance.naver.com/news/mainnews.naver?date=2025-01-10&page=4 / num of docs: 20 / num of chunks: 46\n",
      "URL: https://finance.naver.com/news/mainnews.naver?date=2025-01-10&page=5 / num of docs: 20 / num of chunks: 52\n",
      "URL: https://finance.naver.com/news/mainnews.naver?date=2025-01-10&page=6 / num of docs: 20 / num of chunks: 48\n",
      "URL: https://finance.naver.com/news/mainnews.naver?date=2025-01-10&page=7 / num of docs: 20 / num of chunks: 54\n",
      "URL: https://finance.naver.com/news/mainnews.naver?date=2025-01-10&page=8 / num of docs: 20 / num of chunks: 43\n",
      "URL: https://finance.naver.com/news/mainnews.naver?date=2025-01-10&page=9 / num of docs: 20 / num of chunks: 57\n",
      "URL: https://finance.naver.com/news/mainnews.naver?date=2025-01-10&page=10 / num of docs: 2 / num of chunks: 8\n",
      "URL: https://finance.naver.com/news/mainnews.naver?date=2025-01-11&page=1 / num of docs: 20 / num of chunks: 55\n",
      "URL: https://finance.naver.com/news/mainnews.naver?date=2025-01-11&page=2 / num of docs: 20 / num of chunks: 66\n",
      "URL: https://finance.naver.com/news/mainnews.naver?date=2025-01-11&page=3 / num of docs: 18 / num of chunks: 63\n",
      "URL: https://finance.naver.com/news/mainnews.naver?date=2025-01-12&page=1 / num of docs: 20 / num of chunks: 52\n",
      "URL: https://finance.naver.com/news/mainnews.naver?date=2025-01-12&page=2 / num of docs: 20 / num of chunks: 63\n",
      "URL: https://finance.naver.com/news/mainnews.naver?date=2025-01-12&page=3 / num of docs: 20 / num of chunks: 46\n",
      "URL: https://finance.naver.com/news/mainnews.naver?date=2025-01-12&page=4 / num of docs: 20 / num of chunks: 56\n",
      "URL: https://finance.naver.com/news/mainnews.naver?date=2025-01-12&page=5 / num of docs: 20 / num of chunks: 76\n",
      "URL: https://finance.naver.com/news/mainnews.naver?date=2025-01-12&page=6 / num of docs: 5 / num of chunks: 17\n",
      "URL: https://finance.naver.com/news/mainnews.naver?date=2025-01-13&page=1 / num of docs: 20 / num of chunks: 59\n",
      "URL: https://finance.naver.com/news/mainnews.naver?date=2025-01-13&page=2 / num of docs: 20 / num of chunks: 53\n",
      "URL: https://finance.naver.com/news/mainnews.naver?date=2025-01-13&page=3 / num of docs: 20 / num of chunks: 65\n",
      "URL: https://finance.naver.com/news/mainnews.naver?date=2025-01-13&page=4 / num of docs: 20 / num of chunks: 54\n",
      "URL: https://finance.naver.com/news/mainnews.naver?date=2025-01-13&page=5 / num of docs: 20 / num of chunks: 61\n",
      "URL: https://finance.naver.com/news/mainnews.naver?date=2025-01-13&page=6 / num of docs: 20 / num of chunks: 56\n",
      "URL: https://finance.naver.com/news/mainnews.naver?date=2025-01-13&page=7 / num of docs: 20 / num of chunks: 47\n",
      "URL: https://finance.naver.com/news/mainnews.naver?date=2025-01-13&page=8 / num of docs: 20 / num of chunks: 48\n",
      "URL: https://finance.naver.com/news/mainnews.naver?date=2025-01-13&page=9 / num of docs: 20 / num of chunks: 49\n",
      "URL: https://finance.naver.com/news/mainnews.naver?date=2025-01-13&page=10 / num of docs: 20 / num of chunks: 72\n",
      "URL: https://finance.naver.com/news/mainnews.naver?date=2025-01-13&page=11 / num of docs: 2 / num of chunks: 5\n",
      "URL: https://finance.naver.com/news/mainnews.naver?date=2025-01-14&page=1 / num of docs: 20 / num of chunks: 60\n",
      "URL: https://finance.naver.com/news/mainnews.naver?date=2025-01-14&page=2 / num of docs: 20 / num of chunks: 62\n",
      "URL: https://finance.naver.com/news/mainnews.naver?date=2025-01-14&page=3 / num of docs: 20 / num of chunks: 65\n",
      "URL: https://finance.naver.com/news/mainnews.naver?date=2025-01-14&page=4 / num of docs: 20 / num of chunks: 64\n",
      "URL: https://finance.naver.com/news/mainnews.naver?date=2025-01-14&page=5 / num of docs: 20 / num of chunks: 53\n",
      "URL: https://finance.naver.com/news/mainnews.naver?date=2025-01-14&page=6 / num of docs: 20 / num of chunks: 41\n",
      "URL: https://finance.naver.com/news/mainnews.naver?date=2025-01-14&page=7 / num of docs: 20 / num of chunks: 54\n",
      "URL: https://finance.naver.com/news/mainnews.naver?date=2025-01-14&page=8 / num of docs: 20 / num of chunks: 65\n",
      "URL: https://finance.naver.com/news/mainnews.naver?date=2025-01-14&page=9 / num of docs: 20 / num of chunks: 71\n",
      "URL: https://finance.naver.com/news/mainnews.naver?date=2025-01-14&page=10 / num of docs: 7 / num of chunks: 24\n",
      "URL: https://finance.naver.com/news/mainnews.naver?date=2025-01-15&page=1 / num of docs: 20 / num of chunks: 55\n",
      "URL: https://finance.naver.com/news/mainnews.naver?date=2025-01-15&page=2 / num of docs: 20 / num of chunks: 51\n",
      "URL: https://finance.naver.com/news/mainnews.naver?date=2025-01-15&page=3 / num of docs: 20 / num of chunks: 67\n",
      "URL: https://finance.naver.com/news/mainnews.naver?date=2025-01-15&page=4 / num of docs: 20 / num of chunks: 63\n",
      "URL: https://finance.naver.com/news/mainnews.naver?date=2025-01-15&page=5 / num of docs: 20 / num of chunks: 54\n",
      "URL: https://finance.naver.com/news/mainnews.naver?date=2025-01-15&page=6 / num of docs: 20 / num of chunks: 45\n",
      "URL: https://finance.naver.com/news/mainnews.naver?date=2025-01-15&page=7 / num of docs: 20 / num of chunks: 55\n",
      "URL: https://finance.naver.com/news/mainnews.naver?date=2025-01-15&page=8 / num of docs: 20 / num of chunks: 75\n",
      "URL: https://finance.naver.com/news/mainnews.naver?date=2025-01-15&page=9 / num of docs: 8 / num of chunks: 26\n",
      "URL: https://finance.naver.com/news/mainnews.naver?date=2025-01-16&page=1 / num of docs: 20 / num of chunks: 62\n",
      "URL: https://finance.naver.com/news/mainnews.naver?date=2025-01-16&page=2 / num of docs: 20 / num of chunks: 60\n",
      "URL: https://finance.naver.com/news/mainnews.naver?date=2025-01-16&page=3 / num of docs: 20 / num of chunks: 59\n",
      "URL: https://finance.naver.com/news/mainnews.naver?date=2025-01-16&page=4 / num of docs: 20 / num of chunks: 69\n",
      "URL: https://finance.naver.com/news/mainnews.naver?date=2025-01-16&page=5 / num of docs: 20 / num of chunks: 57\n",
      "URL: https://finance.naver.com/news/mainnews.naver?date=2025-01-16&page=6 / num of docs: 20 / num of chunks: 49\n",
      "URL: https://finance.naver.com/news/mainnews.naver?date=2025-01-16&page=7 / num of docs: 20 / num of chunks: 58\n",
      "URL: https://finance.naver.com/news/mainnews.naver?date=2025-01-16&page=8 / num of docs: 20 / num of chunks: 66\n",
      "URL: https://finance.naver.com/news/mainnews.naver?date=2025-01-16&page=9 / num of docs: 14 / num of chunks: 44\n",
      "URL: https://finance.naver.com/news/mainnews.naver?date=2025-01-17&page=1 / num of docs: 20 / num of chunks: 39\n",
      "URL: https://finance.naver.com/news/mainnews.naver?date=2025-01-17&page=2 / num of docs: 20 / num of chunks: 44\n",
      "URL: https://finance.naver.com/news/mainnews.naver?date=2025-01-17&page=3 / num of docs: 20 / num of chunks: 35\n",
      "URL: https://finance.naver.com/news/mainnews.naver?date=2025-01-17&page=4 / num of docs: 20 / num of chunks: 36\n",
      "URL: https://finance.naver.com/news/mainnews.naver?date=2025-01-17&page=5 / num of docs: 20 / num of chunks: 34\n",
      "URL: https://finance.naver.com/news/mainnews.naver?date=2025-01-17&page=6 / num of docs: 20 / num of chunks: 58\n",
      "URL: https://finance.naver.com/news/mainnews.naver?date=2025-01-17&page=7 / num of docs: 20 / num of chunks: 55\n",
      "URL: https://finance.naver.com/news/mainnews.naver?date=2025-01-17&page=8 / num of docs: 20 / num of chunks: 51\n",
      "URL: https://finance.naver.com/news/mainnews.naver?date=2025-01-17&page=9 / num of docs: 20 / num of chunks: 49\n",
      "URL: https://finance.naver.com/news/mainnews.naver?date=2025-01-17&page=10 / num of docs: 20 / num of chunks: 56\n",
      "URL: https://finance.naver.com/news/mainnews.naver?date=2025-01-17&page=11 / num of docs: 12 / num of chunks: 40\n",
      "URL: https://finance.naver.com/news/mainnews.naver?date=2025-01-18&page=1 / num of docs: 20 / num of chunks: 63\n",
      "URL: https://finance.naver.com/news/mainnews.naver?date=2025-01-18&page=2 / num of docs: 20 / num of chunks: 74\n",
      "URL: https://finance.naver.com/news/mainnews.naver?date=2025-01-18&page=3 / num of docs: 12 / num of chunks: 39\n",
      "URL: https://finance.naver.com/news/mainnews.naver?date=2025-01-19&page=1 / num of docs: 20 / num of chunks: 60\n",
      "URL: https://finance.naver.com/news/mainnews.naver?date=2025-01-19&page=2 / num of docs: 20 / num of chunks: 60\n",
      "URL: https://finance.naver.com/news/mainnews.naver?date=2025-01-19&page=3 / num of docs: 20 / num of chunks: 58\n",
      "URL: https://finance.naver.com/news/mainnews.naver?date=2025-01-19&page=4 / num of docs: 20 / num of chunks: 54\n",
      "URL: https://finance.naver.com/news/mainnews.naver?date=2025-01-19&page=5 / num of docs: 20 / num of chunks: 62\n",
      "URL: https://finance.naver.com/news/mainnews.naver?date=2025-01-19&page=6 / num of docs: 12 / num of chunks: 46\n",
      "URL: https://finance.naver.com/news/mainnews.naver?date=2025-01-20&page=1 / num of docs: 20 / num of chunks: 55\n",
      "URL: https://finance.naver.com/news/mainnews.naver?date=2025-01-20&page=2 / num of docs: 20 / num of chunks: 63\n",
      "URL: https://finance.naver.com/news/mainnews.naver?date=2025-01-20&page=3 / num of docs: 20 / num of chunks: 57\n",
      "URL: https://finance.naver.com/news/mainnews.naver?date=2025-01-20&page=4 / num of docs: 20 / num of chunks: 53\n",
      "URL: https://finance.naver.com/news/mainnews.naver?date=2025-01-20&page=5 / num of docs: 20 / num of chunks: 66\n",
      "URL: https://finance.naver.com/news/mainnews.naver?date=2025-01-20&page=6 / num of docs: 20 / num of chunks: 44\n",
      "URL: https://finance.naver.com/news/mainnews.naver?date=2025-01-20&page=7 / num of docs: 20 / num of chunks: 42\n",
      "URL: https://finance.naver.com/news/mainnews.naver?date=2025-01-20&page=8 / num of docs: 20 / num of chunks: 44\n",
      "URL: https://finance.naver.com/news/mainnews.naver?date=2025-01-20&page=9 / num of docs: 20 / num of chunks: 35\n",
      "URL: https://finance.naver.com/news/mainnews.naver?date=2025-01-20&page=10 / num of docs: 20 / num of chunks: 56\n",
      "URL: https://finance.naver.com/news/mainnews.naver?date=2025-01-20&page=11 / num of docs: 11 / num of chunks: 39\n",
      "URL: https://finance.naver.com/news/mainnews.naver?date=2025-01-21&page=1 / num of docs: 20 / num of chunks: 54\n",
      "URL: https://finance.naver.com/news/mainnews.naver?date=2025-01-21&page=2 / num of docs: 20 / num of chunks: 66\n",
      "URL: https://finance.naver.com/news/mainnews.naver?date=2025-01-21&page=3 / num of docs: 20 / num of chunks: 68\n",
      "URL: https://finance.naver.com/news/mainnews.naver?date=2025-01-21&page=4 / num of docs: 20 / num of chunks: 56\n",
      "URL: https://finance.naver.com/news/mainnews.naver?date=2025-01-21&page=5 / num of docs: 20 / num of chunks: 72\n",
      "URL: https://finance.naver.com/news/mainnews.naver?date=2025-01-21&page=6 / num of docs: 20 / num of chunks: 51\n",
      "URL: https://finance.naver.com/news/mainnews.naver?date=2025-01-21&page=7 / num of docs: 20 / num of chunks: 66\n",
      "URL: https://finance.naver.com/news/mainnews.naver?date=2025-01-21&page=8 / num of docs: 20 / num of chunks: 65\n",
      "URL: https://finance.naver.com/news/mainnews.naver?date=2025-01-21&page=9 / num of docs: 20 / num of chunks: 62\n",
      "URL: https://finance.naver.com/news/mainnews.naver?date=2025-01-21&page=10 / num of docs: 15 / num of chunks: 53\n",
      "URL: https://finance.naver.com/news/mainnews.naver?date=2025-01-22&page=1 / num of docs: 20 / num of chunks: 57\n",
      "URL: https://finance.naver.com/news/mainnews.naver?date=2025-01-22&page=2 / num of docs: 20 / num of chunks: 62\n",
      "URL: https://finance.naver.com/news/mainnews.naver?date=2025-01-22&page=3 / num of docs: 20 / num of chunks: 62\n",
      "URL: https://finance.naver.com/news/mainnews.naver?date=2025-01-22&page=4 / num of docs: 20 / num of chunks: 58\n",
      "URL: https://finance.naver.com/news/mainnews.naver?date=2025-01-22&page=5 / num of docs: 20 / num of chunks: 54\n",
      "URL: https://finance.naver.com/news/mainnews.naver?date=2025-01-22&page=6 / num of docs: 20 / num of chunks: 46\n",
      "URL: https://finance.naver.com/news/mainnews.naver?date=2025-01-22&page=7 / num of docs: 20 / num of chunks: 54\n",
      "URL: https://finance.naver.com/news/mainnews.naver?date=2025-01-22&page=8 / num of docs: 20 / num of chunks: 59\n",
      "URL: https://finance.naver.com/news/mainnews.naver?date=2025-01-22&page=9 / num of docs: 20 / num of chunks: 69\n",
      "URL: https://finance.naver.com/news/mainnews.naver?date=2025-01-22&page=10 / num of docs: 3 / num of chunks: 15\n",
      "URL: https://finance.naver.com/news/mainnews.naver?date=2025-01-23&page=1 / num of docs: 20 / num of chunks: 54\n",
      "URL: https://finance.naver.com/news/mainnews.naver?date=2025-01-23&page=2 / num of docs: 20 / num of chunks: 64\n",
      "URL: https://finance.naver.com/news/mainnews.naver?date=2025-01-23&page=3 / num of docs: 20 / num of chunks: 53\n",
      "URL: https://finance.naver.com/news/mainnews.naver?date=2025-01-23&page=4 / num of docs: 20 / num of chunks: 54\n",
      "URL: https://finance.naver.com/news/mainnews.naver?date=2025-01-23&page=5 / num of docs: 20 / num of chunks: 58\n",
      "URL: https://finance.naver.com/news/mainnews.naver?date=2025-01-23&page=6 / num of docs: 20 / num of chunks: 65\n",
      "URL: https://finance.naver.com/news/mainnews.naver?date=2025-01-23&page=7 / num of docs: 20 / num of chunks: 51\n",
      "URL: https://finance.naver.com/news/mainnews.naver?date=2025-01-23&page=8 / num of docs: 20 / num of chunks: 51\n",
      "URL: https://finance.naver.com/news/mainnews.naver?date=2025-01-23&page=9 / num of docs: 20 / num of chunks: 58\n",
      "URL: https://finance.naver.com/news/mainnews.naver?date=2025-01-23&page=10 / num of docs: 20 / num of chunks: 65\n",
      "URL: https://finance.naver.com/news/mainnews.naver?date=2025-01-23&page=11 / num of docs: 12 / num of chunks: 41\n",
      "URL: https://finance.naver.com/news/mainnews.naver?date=2025-01-24&page=1 / num of docs: 20 / num of chunks: 36\n",
      "URL: https://finance.naver.com/news/mainnews.naver?date=2025-01-24&page=2 / num of docs: 20 / num of chunks: 38\n",
      "URL: https://finance.naver.com/news/mainnews.naver?date=2025-01-24&page=3 / num of docs: 20 / num of chunks: 37\n",
      "URL: https://finance.naver.com/news/mainnews.naver?date=2025-01-24&page=4 / num of docs: 20 / num of chunks: 46\n",
      "URL: https://finance.naver.com/news/mainnews.naver?date=2025-01-24&page=5 / num of docs: 20 / num of chunks: 47\n",
      "URL: https://finance.naver.com/news/mainnews.naver?date=2025-01-24&page=6 / num of docs: 20 / num of chunks: 58\n",
      "URL: https://finance.naver.com/news/mainnews.naver?date=2025-01-24&page=7 / num of docs: 20 / num of chunks: 58\n",
      "URL: https://finance.naver.com/news/mainnews.naver?date=2025-01-24&page=8 / num of docs: 20 / num of chunks: 50\n",
      "URL: https://finance.naver.com/news/mainnews.naver?date=2025-01-24&page=9 / num of docs: 20 / num of chunks: 53\n",
      "URL: https://finance.naver.com/news/mainnews.naver?date=2025-01-24&page=10 / num of docs: 20 / num of chunks: 65\n",
      "URL: https://finance.naver.com/news/mainnews.naver?date=2025-01-24&page=11 / num of docs: 7 / num of chunks: 24\n",
      "URL: https://finance.naver.com/news/mainnews.naver?date=2025-01-25&page=1 / num of docs: 20 / num of chunks: 58\n",
      "URL: https://finance.naver.com/news/mainnews.naver?date=2025-01-25&page=2 / num of docs: 20 / num of chunks: 73\n",
      "URL: https://finance.naver.com/news/mainnews.naver?date=2025-01-25&page=3 / num of docs: 20 / num of chunks: 55\n",
      "URL: https://finance.naver.com/news/mainnews.naver?date=2025-01-25&page=4 / num of docs: 4 / num of chunks: 14\n",
      "URL: https://finance.naver.com/news/mainnews.naver?date=2025-01-26&page=1 / num of docs: 20 / num of chunks: 52\n",
      "URL: https://finance.naver.com/news/mainnews.naver?date=2025-01-26&page=2 / num of docs: 20 / num of chunks: 61\n",
      "URL: https://finance.naver.com/news/mainnews.naver?date=2025-01-26&page=3 / num of docs: 20 / num of chunks: 60\n",
      "URL: https://finance.naver.com/news/mainnews.naver?date=2025-01-26&page=4 / num of docs: 20 / num of chunks: 69\n",
      "URL: https://finance.naver.com/news/mainnews.naver?date=2025-01-26&page=5 / num of docs: 1 / num of chunks: 3\n",
      "URL: https://finance.naver.com/news/mainnews.naver?date=2025-01-27&page=1 / num of docs: 20 / num of chunks: 58\n",
      "URL: https://finance.naver.com/news/mainnews.naver?date=2025-01-27&page=2 / num of docs: 20 / num of chunks: 61\n",
      "URL: https://finance.naver.com/news/mainnews.naver?date=2025-01-27&page=3 / num of docs: 20 / num of chunks: 57\n",
      "URL: https://finance.naver.com/news/mainnews.naver?date=2025-01-27&page=4 / num of docs: 12 / num of chunks: 36\n",
      "URL: https://finance.naver.com/news/mainnews.naver?date=2025-01-28&page=1 / num of docs: 20 / num of chunks: 52\n",
      "URL: https://finance.naver.com/news/mainnews.naver?date=2025-01-28&page=2 / num of docs: 20 / num of chunks: 55\n",
      "URL: https://finance.naver.com/news/mainnews.naver?date=2025-01-28&page=3 / num of docs: 20 / num of chunks: 71\n",
      "URL: https://finance.naver.com/news/mainnews.naver?date=2025-01-28&page=4 / num of docs: 9 / num of chunks: 28\n"
     ]
    }
   ],
   "execution_count": 90,
   "source": "add_news_into_db()",
   "id": "398361c95f1e972c"
  },
  {
   "metadata": {
    "ExecuteTime": {
     "end_time": "2025-01-30T03:02:26.557319Z",
     "start_time": "2025-01-30T03:02:26.501747Z"
    }
   },
   "cell_type": "code",
   "source": "vector_db.save_local(\"./vectorstore/naver_news_faiss\", index_name=\"2025_january\")",
   "id": "7f5e4cb9f1ee974a",
   "outputs": [],
   "execution_count": 19
  },
  {
   "metadata": {},
   "cell_type": "markdown",
   "source": "## Multi Query Retriever",
   "id": "1ec296a826a1d4ef"
  },
  {
   "metadata": {
    "ExecuteTime": {
     "end_time": "2025-01-30T03:42:23.465125Z",
     "start_time": "2025-01-30T03:42:23.017732Z"
    }
   },
   "cell_type": "code",
   "source": [
    "def get_multiquery_retriever(vectorstore) -> MultiQueryRetriever:\n",
    "    \"\"\"\n",
    "    Uses LangChain's MultiQueryRetriever to create multiple queries from a single user query.\n",
    "    \"\"\"\n",
    "    # We define a prompt that clarifies how to generate sub-queries\n",
    "    mq_prompt = PromptTemplate(\n",
    "        input_variables=[\"query\"],\n",
    "        template=RAGConfig.multiquery_prompt_template\n",
    "    )\n",
    "    # LLM for generating multi-queries\n",
    "    llm = ChatOpenAI(\n",
    "        model_name=RAGConfig.openai_model_name,\n",
    "        temperature=1.0\n",
    "    )\n",
    "\n",
    "    multiquery_retriever = MultiQueryRetriever.from_llm(\n",
    "        retriever=vectorstore.as_retriever(search_kwargs={\"k\": RAGConfig.top_k}),\n",
    "        llm=llm,\n",
    "        prompt=mq_prompt\n",
    "    )\n",
    "    return multiquery_retriever\n",
    "\n",
    "mq_retriever = get_multiquery_retriever(vector_db)"
   ],
   "id": "adf11e99ff5903ee",
   "outputs": [],
   "execution_count": 44
  },
  {
   "metadata": {
    "ExecuteTime": {
     "end_time": "2025-01-30T03:35:31.602576Z",
     "start_time": "2025-01-30T03:35:27.216582Z"
    }
   },
   "cell_type": "code",
   "source": "mq_retriever.invoke(\"삼성전자의 최근 주가가 하락세인 이유에 대해 알려줘\")",
   "id": "4cbd7e3f3544c3d4",
   "outputs": [
    {
     "name": "stderr",
     "output_type": "stream",
     "text": [
      "2025-01-30 12:35:31,324 [INFO] httpx - HTTP Request: POST https://api.openai.com/v1/chat/completions \"HTTP/1.1 200 OK\"\n",
      "2025-01-30 12:35:31,336 [INFO] langchain.retrievers.multi_query - Generated queries: ['1. 삼성전자의 최근 주가 하락 원인에 대한 분석과 시장 반응은 어떤가요?', '2. 삼성전자의 주가가 지난 6개월 동안 하락한 이유와 그에 따른 재무적 영향은 무엇인가요?', '3. 삼성전자 주가 하락과 관련된 글로벌 경제 동향이나 산업 내 경쟁 상황은 어떻게 변화하고 있나요?']\n"
     ]
    },
    {
     "data": {
      "text/plain": [
       "[Document(id='bcf1cb20-b269-4178-a4ab-5286eb4f201c', metadata={'source': 'https://n.news.naver.com/mnews/article/001/0015149187', 'date': '2025-01-08'}, page_content='풀이된다.    이경민 대신증권 연구원은 \"낮아질 대로 낮아진 기대치로 인해 실적이 예상보다 부진했음에도 불구하고 강한 안도 심리를 자극한 것으로 볼 수 있다\"며 \"삼성전자 주가 수준이 고점 대비 40% 이상 하락하는 등 역사적 저점권에 위치함에 따라 이런 역발상적 주가 흐름이 가능했다고 판단된다\"고 말했다.    josh@yna.co.kr'),\n",
       " Document(id='0cb7f736-2938-4e24-94b3-c0915056a00e', metadata={'source': 'https://n.news.naver.com/mnews/article/119/0002910180', 'date': '2025-01-03'}, page_content='삼성전자 서초사옥 전경. ⓒ데일리안 DB[데일리안 = 황인욱 기자] 지난해 글로벌 증시 대비 국내 증시의 부진이 두드러졌던 한 요인으로 삼성전자의 하락세가 지목된다. 새해 코스피지수가 상승 국면에 들기 위한 조건으로 삼성전자의 반등세가 절실하나 반도체 업황 우려가 여전해 투심 회복에 시간이 걸릴 것이라는 관측이 나온다.3일 한국거래소에 따르면 작년 말 기준 코스피 시가총액은 1963조3288억원으로 연초(2024년 1월 2일 기준) 2147조2239억원 대비 8.56%(183조8951억원) 감소했다. 이 기간 삼성전자 시총은 475조1957억원에서 319조3834억원으로 32.79%(155조8123억원) 줄었다.작년 코스피 전체 시총 감소분에서 삼성전자가 차지하는 비중은 84.73%에 달했다. 시총 1위 삼성전자의 주가가 32.23%(7만8500→5만3200원)로 하락하며 지수도 9.63%(2655.28→2399.49) 내렸다.삼성전자의 주가 하락은 외국인 수급 이탈 영향이 컸다. 외국인은 작년 한 해(2024.1.2~2024.12.30) 동안 코스피 주식을 2조7464억원 순매수하면서도 삼성전자는 10조5197억원이나 순매도했다.특히 외국인은 작년 9월부터 연말까지 순매도 기조를 보이며 지수 하방 압력을 높였는데 이 기간 외국인의 삼성전자 순매도 규모는 19조1979억원으로 코스피 순매도 19조1416억원을 상회했다. 사실상 삼성전자에만 매도 주문을 쏟아낸 셈이다.박소연 신영증권 연구원은 “작년 외국인 순매매 동향을 집계해보면 특이한 현상이 하나 관찰되는데 삼성전자 한 종목을 제외하면 외국인은 한국시장에서 12조원 가까이를 순매수했다는 점”이라며 “12월 탄핵 정국 이후 은행 등 여타 업종으로 매도세가 번지고 있긴 하나 주류라고 보긴 어렵고 여전히 외국인 매도의 70%는 삼성전자에 집중돼 있다”고 설명했다.삼성전자에 대한 투심 악화 배경으로는 범용(레거시) 메모리의 수요 약화와 재고조정 진행으로 업황 회복 시기가 예상보다 늦어질 것이란 우려가 지목된다.'),\n",
       " Document(id='d1417373-3389-409e-a348-e95b24855f23', metadata={'source': 'https://n.news.naver.com/mnews/article/366/0001045993', 'date': '2025-01-09'}, page_content='컨센서스는 아직 지나치게 높다”며 “이미 밸류에이션(Valuation·평가 가치) 배수 하락에 따른 주가 반영이 상당히 진행됐으나, 실적 컨센서스 하향에 따른 주당 가치의 하락이 향후 삼성전자 주가의 본격적인 상승을 제한할 수 있다”고 했다.'),\n",
       " Document(id='6a9666b2-9b17-462d-8d07-1b70126f7eb6', metadata={'source': 'https://n.news.naver.com/mnews/article/016/0002413521', 'date': '2025-01-09'}, page_content='공급과 수요회복 모멘텀이, 중장기적으로는 기술 경쟁력 확보가 필요하다”고 진단했다.전날 실적 발표 이후 전장 대비 3.43% 올라 상승 마감했던 삼성전자 주가는 9일 오전 10시 30분께 0.70% 하락한 5만6900원에 거래 중이다.'),\n",
       " Document(id='256bcea3-cb04-4556-9754-5fb149e44763', metadata={'source': 'https://n.news.naver.com/mnews/article/009/0005423131', 'date': '2025-01-03'}, page_content='실적 발표 코앞인데 “목표주가 내릴게요”… 삼성전자 어쩌나\\n\\n\\n증권사 리포트 살펴보니4분기 영업익 전망 7.6조업계 예상보다 10% 낮아메모리·스마트폰 부진“PBR 0.9배로 저평가 여전추가 하락은 제한적일 것”'),\n",
       " Document(id='7277620c-eb10-44e9-b73b-8bdbccdcbd4b', metadata={'source': 'https://n.news.naver.com/mnews/article/016/0002413416', 'date': '2025-01-09'}, page_content='작자가 줄어들 것으로 추정된다”고 강조했다.모든 악재가 이미 주가에 선반영된 상황이란 점에서 삼성전자 주가가 추가로 급락세를 보일 확률이 낮다는 분석도 나온다. 현재 삼성전자의 주가순자산비율(PBR)은 1배를 밑돌며 ‘역사적 저점’을 기록 중이다.한편, 금융감독원 전자공시시스템(DART)에 따르면 작년 6월 30일 기준 삼성전자 소액주주수는 424만7611명이다.'),\n",
       " Document(id='5a5ed78c-0587-41c4-abfe-2d095c95a7d5', metadata={'source': 'https://n.news.naver.com/mnews/article/008/0005135909', 'date': '2025-01-02'}, page_content='\"지금 너무 싸다\" 평가에도 삼성전자 또 \\'풀썩\\'…목표가도 줄하향\\n\\n\\n[특징주]\\n\\n\\n\\n서울 서초구 삼성전자 사옥 앞으로 직장인들이 지나가고 있다./사진=(서울=뉴스1) 장수영 기자국내 증시 대장주 삼성전자가 하락세를 보인다. 증권가는 삼성전자에 대한 눈높이를 낮추고 있다. 올해 첫 개장일인 2일 오전 10시 3분 기준 코스피 시장에서 삼성전자는 전 거래일보다 600원(1.13%) 하락한 5만2600원에 거래 중이다. 삼성전자는 이날 5만2700원으로 시작해 낙폭을 키우고 있다. 증권가에서는 삼성전자에 대한 시선을 낮추고 있다. 이날 삼성전자 기업 분석 리포트를 발간한 증권사 중 3곳(삼성증권·대신증권·한국투자증권)이 나란히 목표주가를 하향했다. 그중 삼성증권은 가장 낮은 7만4000원을 냈다. 신석환 대신증권 연구원은 \"2025년 실적 추정치 조정에 따라 삼성전자의 목표주가를 내렸다\"며 \"견조한 HBM(고대역폭메모리), 서버향 메모리 수요에도 불구하고 HBM 양산 일정이 기대보다 지연됐고 B2C(스마트폰, PC 등) 수요 둔화 및 레거시 메모리 공급 과잉에 따른 반도체 가격의 하락도 나타났다\"고 설명했다.다만 과도한 하락으로 밸류에이션(실적대비 주가수준) 매력도가 유효하다는 평가도 있다. 김영건 미래에셋증권 연구원은 \"하향 조정한 실적과 밸류에이션을 적용해도 약 58%의 주가 상승 여력이 추산되는 만큼 매수 관점 접근이 유효하다\"고 판단했다.'),\n",
       " Document(id='a5f9bfda-5b0e-418f-b860-8cb40cd984d9', metadata={'source': 'https://n.news.naver.com/mnews/article/008/0005137505', 'date': '2025-01-06'}, page_content='하단을 지지한다\"라고 말했다. 강진혁 신한투자증권 연구원은 국내 증시에 대해 \"시장에서 삼성전자 AI(인공지능) 반도체 기술력 의구심에 더해 반도체 수출 증가율 감소 등 전반적 이익 추정치 하향이 진행 중\"이라고 했다.'),\n",
       " Document(id='2e42cead-debd-4acf-b4a0-9218260d7dec', metadata={'source': 'https://n.news.naver.com/mnews/article/009/0005425800', 'date': '2025-01-08'}, page_content='깊은 단계로 진입하고 있다”면서도 “주가에 이미 부정적인 요소가 반영돼 있으며 단기적으로 실적 전망의 불확실성이 해소됐다”고 분석했다.김선우 메리츠증권 연구원은 “현재 삼성전자는 실적 부진과 메모리 경쟁력 상실 우려 때문에 극히 낮은 밸류에이션에 거래되고 있다”며 “주가는 부진한 실적에도 불구하고 당분간 반등세는 가능할 전망”이라고 내다봤다.'),\n",
       " Document(id='43554021-2adb-4f72-8643-daabcda2a65b', metadata={'source': 'https://n.news.naver.com/mnews/article/421/0008011799', 'date': '2025-01-09'}, page_content='\"최악은 지났다\"…\\'어닝쇼크\\'에도 삼성전자 주가 올린 \\'역발상 투자\\'\\n\\n\\n시장 기대치 밑돌아도 \\'역사적 하단\\' 저가매수 수요에 상승 마감\"낙폭 과대·실적 대비 저평가 여부가 주가 변수될 것\"'),\n",
       " Document(id='70d27fde-9544-40ac-bacc-58a9a1d01f64', metadata={'source': 'https://n.news.naver.com/mnews/article/016/0002413521', 'date': '2025-01-09'}, page_content='서울시 서초구 삼성전자 본사 전경. [게티이미지][헤럴드경제=김민지 기자] 삼성전자가 기대에 못 미친 지난해 4분기 실적을 내놓은 가운데, 주가에 미칠 영향에 대한 증권사 간 의견이 엇갈리고 있다.9일 증권사는 일제히 삼성전자 관련 보고서를 내고 부진했던 4분기 실태를 꼬집었다. 그러면서 투자 의견을 제시했는데, 이에 ‘모든 악재가 선반영돼 주가에 미치는 영향은 제한적’이라는 의견과 함께 ‘예상보다 길어진 반도체 가격 하락세로 향후 주가 상승이 어려울 것’이라는 전망이 공존하는 분석이 나왔다.채민숙 한국투자증권 연구원은 “단기간 내 주가 상승의 트리거(계기)를 찾기는 어려운 상황이나, 12개월 선행 PBR(주가순자산비율) 기준 0.9배의 주가 수준을 고려할 때 주가의 하방 리스크는 제한적”이라고 판단했다.그러면서 “파운드리(반도체 위탁생산) 일회성 비용 등 재무적 악재 중 상당 부분은 이미 반영됐다”며 “여기에 가동률 하락 및 연구개발비 증가에 따른 원가 상승이 더해지며 적자 폭이 확대된 것으로 추정한다”고 봤다.김동원 KB증권 연구원 또한 삼성전자에 대해 “모든 악재를 선반영한 주가”라며 “오히려 상·하반기 영업이익 비중은 각각 39% (12.9조원), 61% (20.3조원)로 하반기로 갈수록 실적 개선 폭이 확대될 전망”이라고 봤다.이어 “최근 6개월간 삼성전자 주가는 범용 메모리 재고 증가, 엔비디아 고대역폭메모리(HBM) 공급 지연, 파운드리 적자 확대 등으로 34% 하락했으나 1분기부터 범용 메모리 재고가 감소세에 진입했고, 2분기부터 엔비디아향 HBM 공급 확대로 하반기부터 파운드리 적자 축소가 예상된다”며 상승 이유를 설명했다. 김 연구원은 실적 저점이 예상되는 1분기가 비중확대 적기로 판단했다.신석환 대신증권 연구원은 “실적 불안감이 선반영돼 삼성전자 주가는 상승 마감했고, 여전히 밸류에이션이 낮은 수준”이라며 매수 의견을 유지했다. 이민희 BNK 투자증권 연구원 또한 “반도체 수익성 악화가 주 요인으로 주가는 이미 바닥을 기록했다”고'),\n",
       " Document(id='07834aad-8506-4f97-b3aa-bb29d3c8c4de', metadata={'source': 'https://n.news.naver.com/mnews/article/629/0000354278', 'date': '2025-01-07'}, page_content=\"'실적 발표 D-1' 삼성전자, '어닝쇼크?'···주가 향방에 이목\\n\\n\\n증권가, 실적 컨센서스·목표가 하향향후 긍정적 주가 흐름 전망도\"),\n",
       " Document(id='9ef24a8c-4581-4d65-9408-ac8a6f25b088', metadata={'source': 'https://n.news.naver.com/mnews/article/119/0002910180', 'date': '2025-01-03'}, page_content='2일 오후 서울 중구 하나은행 본점 딜링룸 전광판에 코스피지수 등이 표시돼 있다. ⓒ연합뉴스이에 삼성전자를 바라보는 시장의 눈높이도 내려가고 있다. 국내 25개 증권사가 제시한 삼성전자의 목표주가는 8만1320원으로 직전 목표가(8만6640원) 대비 6.14%(5320원) 내려갔다.채민숙 한국투자증권 연구원은 “인공지능(AI)과 고대역폭메모리(HBM) 중심의 업사이클에서 소외된 것이 주가 하락의 주 요인”이라며 “4분기 부진한 실적으로 인해 단기적으로 주가가 추가 하락할 가능성이 있으나 전 저점 부근에서 바닥을 지지할 수 있을 것”이라고 전망했다.증권가는 삼성전자의 실적 감소와 원·달러 환율 상승, 국내 경기 둔화 가능성 등을 고려할 때 4분기 코스피 기업이익의 추가 하향 조정 가능성에 무게를 두고 있다. 이에 국내 증시는 투심 회복의 시간이 걸리 것으로 전망되고 있는 가운데 올해 1분기 삼성전자의 실적이 반등을 위한 중요 지표로 지목된다.김재은 NH투자증권 연구원은 “삼성전자의 1분기 잠정 실적 발표에서 전망치 부합 여부가 코스피 12개월 선행 주당순이익(EPS)의 방향성 전환점이 될 가능성이 높다”며 “삼성전자는 올 1분기 중국 경기부양책과 재고 조정에 따른 중국 모바일 수요 회복을 기대할 수 있을 것”이라고 전망했다.'),\n",
       " Document(id='4644e22c-e589-4ed9-a290-2c03e44f2e7d', metadata={'source': 'https://n.news.naver.com/mnews/article/016/0002413521', 'date': '2025-01-09'}, page_content='“모든 악재 선반영” vs “올해도 어렵다” 증권가, 삼성전자에 엇갈린 전망 [투자360]\\n\\n\\niM증권, 삼성전자 7만1000원→6만8000원 하향삼성전자, 3분기 대비 영업이익 29.19% 감소'),\n",
       " Document(id='28427d87-bc46-4f31-a5ce-fa51b88cf206', metadata={'source': 'https://n.news.naver.com/mnews/article/417/0001050311', 'date': '2025-01-07'}, page_content='7일 삼성전자 주가가 실적 발표를  하루 앞두고 하락했다.  지난해 11월14일 오후 서울 여의도 한국거래소 홍보관에서  직원이 삼성전자 주가가 표시된 화면을 보고 있다. /사진=조성봉 삼성전자 주가가 지난해 4분기 실적 발표를 하루 앞둔 7일 다시 하락했다. 이달 2일부터 3거래일 연속으로 오른 삼성전자 주가는 지난해 4분기 삼성전자 실적이 부진했을 것이란 증권가 추정이 이어지며 다시 떨어진 것이다. 이날(7일) 삼성전자는 전 거래일 보다 500원(0.89%) 하락한 5만5400원에 거래를 마쳤다. 삼성전자 주가는 지난해 10월16일부터 56거래일 동안 5만원대에 머물고 있다. 마지막으로 6만원대를 기록한 것은 지난해 10월15일(6만1000원)이다. 삼성전자 주가는 이달 2일 5만3400원으로 전 거래일보다 200원 상승한 이후 3일엔 5만4400원, 6일 5만5900원으로 오르며 상승세를 보였다. 하지만 지난해 4분기 삼성전자 실적이 부진할 것으로 추정하며 삼성전자 주가는 올해 국내 증시가 첫 개장한지 4거래일 만에 하락세로 전환했다. 증권가에 따르면 삼성전자의 영업이익 전망치는 지난해 8월 15조원에 가까웠지만 5개월 만에 영업이익 전망치가 반토막이 났다. SK증권은 삼성전자 4분기 연결 영업이익을 7조3000억원을 기록할 것으로 전망했다. 이는 전 분기 대비 20% 감소한 수준이다. 목표주가는 기존 8만6000원에서 7만7000원으로 내려잡았다.  한동희 SK증권 연구원은 \"세트 수요 부진과 계절 비수기 영향, 경쟁 강도 심화 등으로 스마트폰과 디스플레이, 비메모리, 메모리 등 주요 사업부 전반적으로 감익이 불가피해 보인다\"고 판단했다. 이어 \" 메모리에서의 다소 더딘 경쟁력 회복 속 Legacy 시장 내 경쟁 강도 증가로 단기간 내 업종 내 실적 차별화 가시성이 제한적일 것으로 보인다\"고 전망했다. 정민규 상상인증권 연구원도 이달 삼성전자 목표주가를 기존 8만5000원에서 7만7000원으로 낮췄다. 정 연구원은 \"올 1분기 DDR4와 DDR5 가격'),\n",
       " Document(id='87d2de67-0816-4498-8462-1e8e639c11c2', metadata={'source': 'https://n.news.naver.com/mnews/article/009/0005423001', 'date': '2025-01-02'}, page_content='삼성전자를 어쩌나 … 실적발표 앞두고 목표가 줄하향\\n\\n\\n증권사 리포트 살펴보니4분기 영업익 전망 7.6조업계 예상보다 10% 낮아메모리·스마트폰 부진\"PBR 0.9배로 저평가 여전추가 하락은 제한적일 것\"'),\n",
       " Document(id='bb8775c6-944e-458e-918b-181bbca1963c', metadata={'source': 'https://n.news.naver.com/mnews/article/016/0002412999', 'date': '2025-01-08'}, page_content='외인, 삼성전자 비중 23개월만 최저…‘저가매력’에 돌아올까\\n\\n\\n예상된 부진, 내려간 주가에 선반영  삼전 주가 작년 최고점 대비 -36.9% “점진적으로 밸류 매력 두드러질 것” “HBM 성과 증명, 투심에 선결 과제”'),\n",
       " Document(id='97204d56-0850-41da-84f8-68daedd46a37', metadata={'source': 'https://n.news.naver.com/mnews/article/009/0005426477', 'date': '2025-01-09'}, page_content='지난 2일부터 이날까지 외국인은 SK하이닉스를 8463억원, 삼성전자를 3485억원어치 사들였다. 삼성전자의 주가 하락을 주도했던 외국인이 삼성전자 순매수로 돌아선 것이 지수 회복에 결정적이라는 분석이 나온다.'),\n",
       " Document(id='05a65641-81c6-44cb-9fda-190212851ac2', metadata={'source': 'https://n.news.naver.com/mnews/article/016/0002412964', 'date': '2025-01-08'}, page_content='실적 전망을 내려 잡을 수밖에 없는 현실”이라고 꼬집었다.삼성전자 DS부문이 어려움을 겪는 동안 SK하이닉스는 HBM 수요 급증에 이어 기업용 솔리드스테이트드라이브(eSSD) 등 고부가가치 제품 중심으로 판매가 늘어나면서 격차를 늘려가고 있다.삼성전자 목표주가에 대한 국내 증권사들의 하향 조정도 이어지고 있다. 지난 6일 하나증권(9만5000→8만4000원), SK증권(8만6000→7만7000원), DS투자증권(9만3000→7만7000원), 상상인증권(8만5000→7만7000원)이 각각 삼성전자에 대한 목표주가를 줄하향했다.▶“자사주 매입, 하방 압력 제한”=삼성전자 DS부문의 부진은 주가에도 선반영된 모양새다. 최근 3개월간 삼성전자의 주가 수익률은 -7.76%(6만600→5만5900원)를 기록했다. 같은 기간 SK하이닉스의 주가 수익률 14.76%(17만4100→19만9800원)와 완전히 엇갈린 수치다.다만, 최근 들어 실적 악화에 대한 우려 속에서도 증권가에선 삼성전자 주가 반등에 대한 기대감도 피어오른다. 자사주 매입을 통한 삼성전자의 주가 부양 의지에 높은 점수를 주면서, ‘역사적 하단’을 찍은 주가가 반등할 것이란 전망에 힘을 싣고 있다.앞서 지난해 11월 18일 삼성전자는 10조 원 규모의 자사주 매입 계획을 발표했다. 삼성전자는 오는 2월 17일까지 3조 원 규모에 해당하는 보통주 5014만 4628주, 우선주 691만 2036주를 매입해 전량 소각한다고 밝혔다. 나머지 7조 원은 1년 내 매입하되 구체적인 시기는 추후 결정한다고 했다.한국거래소에 따르면 신년 들어 3거래일간(2·3·6일) 코스피 시장에서 ‘기타법인’은 삼성전자 주식 1633억원어치를 순매수했다. 기타법인은 ‘기관’ 투자자 분류에 포함되지 않는 일반기업을 의미하는데, 상장사가 자사주 매입하는 것도 해당 수급에 포함된다. 새해부터 삼성전자가 자사주 매입을 통해 주가 하락 방어에 적극 나선 것으로 풀이되는 대목이다. 김동원 KB증권 연구원은 “현재 (삼성전자) 주가가'),\n",
       " Document(id='6ab34dc1-1df6-404c-800c-956e872bacdc', metadata={'source': 'https://n.news.naver.com/mnews/article/016/0002412783', 'date': '2025-01-08'}, page_content='이날 삼성전자의 성적이 향후 주가에 미칠 영향에 대해선 전문가들 사이에도 의견이 엇갈린다.우선, 수개월에 걸쳐 예상됐던 충격이 이미 현재 주가에 충분히 반영된 만큼 실적 악화에 따른 추가적인 하방 압력 가능성이 제한되고, ‘저가 매력’을 활용해 비중 확대에 나서려는 투자자가 나타날 수 있다는 분석이 나온다.한동희 SK증권 연구원은 “삼성전자의 현재 주가 수준은 ‘역사적 저점’”이라며 “올해 상반기 플래그십 스마트폰 신제품이 출시될 예정인 데다, 낮은 기저에 따른 메모리 믹스의 점진적 제고 예상 등 실적 하향 리스크가 안정되기 시작한 단계”라고 짚었다. 이어 “점진적으로 밸류에이션 매력이 두드러질 것”이라고 덧붙였다.지난해 4분기에 이어 올해 1분기로 예상되는 실적 저점을 무사히 통과할 경우, 올해 2분기부터는 실적과 주가가 본격적으로 반등할 것이란 예상도 있다. 박유악 키움증권 연구원은 “2025년도 1분기를 지나면 D램과 파운드리가 전사 실적의 반등을 이끌어나가기 시작할 것”이라며 “D램은 유통재고 건전화와 고대역폭메모리(HBM)3E 사업의 본궤도 진입으로 인해, 파운드리는 엑시노스 및 이미지센서(CIS) 가동률 상승에 따라 영업적자가 축소되기 시작하는 등 2분기부터 실적 반등에 나설 전망”이라고 분석했다.반대로 인공지능(AI) 반도체 핵심으로 꼽히는 HBM 중심의 업사이클에서 소외된 것이 삼성전자 주가 하락의 주요 요인이란 분석이 지배적인 상황 속에, 해당 사업에 대한 어려움을 극복할 돌파구를 여전히 찾지 못하고 있다는 점이 재확인된 것은 투심에 부정적 영향을 미칠 것이란 지적도 있다'),\n",
       " Document(id='39252f91-6959-468d-921c-3a6349dc346b', metadata={'source': 'https://n.news.naver.com/mnews/article/016/0002413416', 'date': '2025-01-09'}, page_content='말했다. 즉 반도체 가격 하락세가 시장 예상보다 길어질 것이라는 뜻으로 풀이된다.그러면서 “이미 밸류에이션 하락에 따라 (이 같은 낮은 기대에 대한) 주가 반영이 상당히 진행돼왔으나, 실적 컨센서스 하향에 따른 주당 가치의 하락이 향후 주가의 본격적인 상승을 제한할 가능성이 있는 것으로 판단된다”고 지적했다.앞서 전날 삼성전자는 연결 기준 지난해 4분기 영업이익이 6조5000억원으로 전년 동기보다 130.5% 증가한 것으로 잠정 집계됐다고 공시했다. 다만 직전 분기인 지난해 3분기와 비교하면 영업이익은 29.19% 감소했다.영업이익은 증권가 전망치를 큰 폭으로 밑돌았다. 증권가에서는 당초 지난해 4분기 영업이익으로 10조원 안팎까지 예상했다가 최근 전망치를 7조원대까지 낮춰 잡았다. 하지만 잠정치는 하향 조정된 전망치에도 미치지 못했다.삼성전자 잠정실적 발표에 앞서 대부분의 증권사들은 삼성전자의 실적 예상치를 낮춰잡으며 7만원대 목표주가를 제시한 바 있다. 에프앤가이드에 따르면 이날 기준 삼성전자 목표주가 컨센서스는 7만7520원이다.다수의 국내 증권사들은 삼성전자의 올해 실적이 작년보다 개선될 것이란 데 무게를 두고 있다. 메모리 재고가 줄고 있으며 스마트폰 수요 회복이 기대된다는 이유 때문이다. 김동원 KB증권 연구원은 “1분기부터 고객사와 제조사가 보유한 범용 메모리 재고가 줄어 2분기부턴 수급이 개선될 전망”이라며 “중국 이구환신(낡은 가전제품 교체 시 보조금 지급 정책) 지원 범위가 스마트폰까지 확대돼 3월 양회(전국인민대표대회·전국인민정치협상회의) 이후 중국 스마트폰 수요 회복이 기대된다”고 평가했다.이어 김 연구원은 “1분기 중 엔비디아 HBM3E(5세대 고대역폭메모리) 12단 제품의 최종 품질 승인이 예상되고, 파운드리 사업은 생산라인 재조정과 효율화로 하반기부터 작자가 줄어들 것으로 추정된다”고 강조했다.모든 악재가 이미 주가에 선반영된 상황이란 점에서 삼성전자 주가가 추가로 급락세를 보일 확률이 낮다는 분석도 나온다. 현재 삼성전자의'),\n",
       " Document(id='7a9b9822-e256-4436-be2f-baaf8e6a3722', metadata={'source': 'https://n.news.naver.com/mnews/article/629/0000354278', 'date': '2025-01-07'}, page_content='7일 금융투자업계에 따르면 삼성전자는 작년 4분기 잠정실적 발표를 하루 앞두고 있다. /더팩트 DB삼성전자가 작년 4분기 잠정실적 발표를 하루 앞둔 가운데 최근 증권가에서 삼성전자의 실적 컨센서스와 목표주가를 하향하면서 새해 들어 오름세를 보이던 주가 향방에 시장의 이목이 집중된다.7일 금융투자업계에 따르면 삼성전자는 오는 8일 지난해 4분기 잠정실적을 발표한다. 이 가운데 증권가에서는 삼성전자의 실적 컨센서스와 목표주가를 일제히 하향하고 있다.증권가 컨센서스를 종합해보면 삼성전자는 지난해 4분기 매출이 76조원대, 영업이익이 7조원대를 기록했을 것으로 추산되고 있다. 특히 지난해 하반기 초 15조원에 달할 것으로 예상됐던 영업이익 컨센서스는 7조원으로 형성됐다. 이는 전분기(9조1800억원) 대비 23% 이상 감소한 수치다.최근 미래에셋증권은 작년 4분기 매출 전망치를 기존 74조4000억원에서 73조6000억원으로, 영업이익 전망치를 8조9000억원에서 7조7000억원으로 하향했다. 삼성증권은 작년 4분기 매출 전망치를 79조6250억원으로 상향 조정했으나, 영업이익 전망치는 7조2600억원으로 기존 대비 28% 하향 조정했다. 한국투자증권은 작년 4분기 매출이 74조5000억원, 영업이익이 7조3000억원으로 모두 컨센서스를 하회할 것이라 전망했다.아울러 증권가에서는 줄줄이 삼성전자의 목표주가를 하향하고 있다. 최근 한 달 사이 삼성전자의 목표주가를 내놓은 증권사 21곳 중 17곳이 삼성전자의 목표주가를 하향 조정했다.신영증권과 한화투자증권은 기존 9만원에서 무려 18.89% 떨어진 7만3000원을 제시하며 가장 크게 낮춰 잡았다. 다올투자증권과 DS투자증권도 기존 9만3000원에서 17.20% 내린 7만7000원으로 하향 조정했다. IBK투자증권 역시 기존 9만5000원에서 13.68% 떨어진 8만2000원으로 하향했다.KB증권은 기존 8만원에서 7만원으로, 삼성증권은 기존 8만3000원에서 7만4000원으로, 한국투자증권은 기존 8만3000원에서'),\n",
       " Document(id='addf682f-c545-4bca-8a25-ea9834c0d283', metadata={'source': 'https://n.news.naver.com/mnews/article/119/0002910180', 'date': '2025-01-03'}, page_content='집중돼 있다”고 설명했다.삼성전자에 대한 투심 악화 배경으로는 범용(레거시) 메모리의 수요 약화와 재고조정 진행으로 업황 회복 시기가 예상보다 늦어질 것이란 우려가 지목된다. 삼성전자는 작년 3분기 연결기준 영업이익 9조1834억원을 기록하며 증권가 추정치(컨센서스)인 10조7717억원을 14.75%(1조5883억원) 밑돌아 ‘실적 충격(어닝 쇼크)’를 기록했다.삼성전자는 업황 부진에 작년 4분기 실적도 어닝 쇼크 가능성이 거론된다. 4분기 영업이익 컨센서스(전망치 평균)는 8조9732억원이나 이보다 1조원 이상 미치지 못하는 7조원대 영업이익을 거둘 것이란 관측이 잇따르고 있다. 메모리 반도체 가격 하락과 일회성 비용 반영, 파운드리 적자 지속 등에 따른 여파가 예상되기 때문이다.'),\n",
       " Document(id='de2fcf35-1ed8-49f8-8cc9-1c79b11b6a0b', metadata={'source': 'https://n.news.naver.com/mnews/article/016/0002410913', 'date': '2025-01-03'}, page_content='전략에도 주목했다. 이종욱 삼성증권 연구원은 “삼성전자에 강력한 반등의 트리거가 아직은 보이지 않는 것은 사실이나 회사의 전략은 확실히 위기에 대응하는 자세로 변화하고 있다”며 “주가는 악재에 둔감하고 호재에 민감하게 반응하기 시작했다”고 분석했다. 김민지 기자'),\n",
       " Document(id='b245309b-c25d-4258-9593-99fb953bc11e', metadata={'source': 'https://n.news.naver.com/mnews/article/009/0005422528', 'date': '2025-01-02'}, page_content='“새해 첫 거래일부터 목표주가 낮아졌다”…삼성전자에 무슨 일이?\\n\\n\\n\\n\\n\\n\\n 삼성전자. [사진 출처 = 연합뉴스]한국투자증권은 2일 삼성전자에 대해 지난해 4분기 실적도 시장 컨센서스를 밑돌 것이라며 목표주가를 기존 8만3000원에서 7만7000원으로 하향 조정했다.한국투자증권은 지난해 4분기 삼성전자의 매출액과 영업이익을 각각 74조5000억원, 7조3000억원으로 추정했다. 시장의 컨센서스였던 매출액 77조9000억원과 영업이익 8조9000억원을 각각 4%, 18% 밑돈 수준이다. 모바일, PC 고객사를 중심으로 다시금 재고 조정이 시작돼 컨벤셔널 메모리 수요가 예상보다 낮은 것으로 추정되기 때문이다.특히 한국투자증권은 삼성을 위해서도 공급 조절이 중요한 시점이라는 점을 강조했다.증권가에서는 지난해에 이어 올해 또한 정보통신(IT) 하드웨어 세트 수요가 전년 동기 대비 한 자릿수 초중반%의 미약한 성장에 그칠 것이라는 전망이 우세한 상황이다. 메모리 반도체 측면에서는 지난해와 마찬가지로 수량 기반의 성장이 제한될 가능성이 높은 만큼 공급을 제한하고, 평균판매가격(ASP) 하락을 방지하는 전략이 필수적이라는 평가다.한국투자증권은 생산능력(Capa)이 가장 큰 삼성전자의 공급 조절이 가장 중요하다며 공급 과잉으로 인한 ASP 하락 위험은 고대역폭메모리(HBM)와 같은 고부가가치 메모리 제품보다 컨벤셔널 메모리에 더 악영향을 주게 될 것이라고 진단했다.채민숙 한국투자증권 연구원은 “컨벤셔널 메모리 비중이 상대적으로 높은 삼성전자의 비즈니스 구조를 고려할 때 올해 공급 조절을 통한 수익성 위주 경영이 무엇보다 중요한 시점”이라며 “4분기 부진한 실적으로 인해 단기적으로 주가가 추가로 하락할 가능성 있으나 전 저점 부근에서 바닥을 지지할 수 있을 것이다”고 말했다.'),\n",
       " Document(id='da50fe60-2b60-4509-b5ce-9ceb0ee7b268', metadata={'source': 'https://n.news.naver.com/mnews/article/029/0002926511', 'date': '2025-01-01'}, page_content='힘 못 쓴 `국민주` 삼성전자, 올해는 다시 날아오를까'),\n",
       " Document(id='b265a8ab-9f0e-46d3-87bf-d83ec1e23661', metadata={'source': 'https://n.news.naver.com/mnews/article/421/0007999033', 'date': '2025-01-02'}, page_content='서울 서초구 삼성전자 사옥 2024.12.17/뉴스1 ⓒ News1 장수영 기자(서울=뉴스1) 박승희 기자 = 새해부터 증권사들이 삼성전자(005930) 목표 주가를 일제히 하향했다.2일 대신증권은 삼성전자 목표주가를 8만 5000원에서 7만 8000원으로 8.23% 하향했다. 한국투자증권도 목표가를 8만 3000원에서 7만 7000원으로 7.22% 내렸다. 다만 투자 의견은 \\'매수\\'로 유지했다.증권사의 목표가 하향은 실적 추정치 조정에 따른 것이다.신석환 대신증권 연구원은 \"2024년과 2025년 영업이익은 각각 33조 7000억 원, 35조 원으로 하향한다\"고 밝혔다. 채민숙 한국투자증권 연구원도 \"삼성전자 4분기 추정치는 매출액 74조 5000억 원, 영업이익 7조 3000억 원으로 컨센서스를 4%, 18% 하회할 것\"이라고 말했다.신 연구원은 \"견조한 고대역폭메모리(HBM), 서버향 메모리 수요에도 불구하고 동사의 HBM 양산 일정이 기대보다 지연되었으며, 스마트폰·PC 등 B2C 수요 둔화 및 레거시 메모리 공급 과잉에 따른 반도체 가격 하락이 나타났기 때문\"이라고 말했다.채 연구원은 \"모바일, PC 고객사를 중심으로 다시금 재고 조정이 시작돼 컨벤셔널 메모리 수요가 예상보다 낮은 것으로 추정한다\"며 \"HBM의 경우 판매 수량은 70% 이상 증가하겠지만, 전체 디램 비트그로스는 저조한 컨벤셔널 디램 수요로 인해 가이던스를 하회할 것\"이라고 했다.다만 추가적인 하락은 제한적으로 보고 매수 의견을 유지했다.신 연구원은 \"현재 주가는 PBR 0.9배 수준으로 여전히 밸류에이션은 낮은 수준이고 1분기 메모리 반도체 재고 조정 이후 반도체 업황 회복 기대와 자사주 매입 진행에 따라 추가적인 하락은 제한적\"이라고 판단했다.채 연구원은 \"AI와 HBM 중심의 업사이클에서 소외된 것이 동사 주가 하락의 주요인임을 고려할 때, 하반기 이후 N사 진입 시점이 가까워질수록 이 같은 디스카운트 요인이 해소될 것\"이라고 예상했다.이어 \"4분기 부진한 실적으로 인해'),\n",
       " Document(id='c9655b39-3fb3-4d2a-8ec9-4e7a19d2e096', metadata={'source': 'https://n.news.naver.com/mnews/article/417/0001050311', 'date': '2025-01-07'}, page_content='\"삼성전자, 좀 오르나했더니\"… 실적 발표 하루 앞두고 \\'털썩\\'\\n\\n\\n7일 삼성전자 종가 5만5400원으로 전거래일 보다 500원 하락'),\n",
       " Document(id='32532bca-1cf7-40f7-aac0-61448ec49ef3', metadata={'source': 'https://n.news.naver.com/mnews/article/421/0007999033', 'date': '2025-01-02'}, page_content='것이 동사 주가 하락의 주요인임을 고려할 때, 하반기 이후 N사 진입 시점이 가까워질수록 이 같은 디스카운트 요인이 해소될 것\"이라고 예상했다.이어 \"4분기 부진한 실적으로 인해 단기적으로 주가가 추가로 하락할 가능성 있으나 전 저점 부근에서 바닥을 지지할 수 있을 것\"이라고 판단했다.'),\n",
       " Document(id='8c826052-17b1-4757-9fae-a3d513ef575d', metadata={'source': 'https://n.news.naver.com/mnews/article/015/0005079994', 'date': '2025-01-09'}, page_content='더 급한 것은 본업인 메모리의 경쟁력 회복\"이라고 제시했다.작년보다 올해 실적이 개선될 것이란 전망도 제시됐다. 메모리 재고가 줄고 있으며 스마트폰 수요 회복이 기대된다는 이유에서다. 김동원 KB증권 연구원은 \"1분기부터 고객사와 제조사가 보유한 범용 메모리 재고가 줄어 2분기부턴 수급이 개선될 전망\"이라며 \"중국 이구환신(낡은 가전제품 교체 시 보조금 지급 정책) 지원 범위가 스마트폰까지 확대돼 3월 양회(전국인민대표대회·전국인민정치협상회의) 이후 중국 스마트폰 수요 회복이 기대된다\"고 했다.  아울러 김 연구원은 \"1분기 중 엔비디아 HBM3E(5세대 고대역폭메모리) 12단 제품의 최종 품질 승인이 예상되고, 파운드리 사업은 생산라인 재조정과 효율화로 하반기부터 작자가 줄어들 것으로 추정된다\"고 부연했다. \"악재는 주가에 모두 반영…저점 매수 관점서 접근\"전문가들은 삼성전자 주가가 추가적으로 하락할 가능성은 작다고 봤다. 밸류에이션을 봤을 때, 모든 악재가 선반영됐다는 이유에서다. 현재 삼성전자의 주가순자산비율(PBR)은 1배를 밑돌고 있다. 역사상 가장 낮은 수준이다.채민숙 한국투자증권 연구원은 \"단기간 내 주가 상승 트리거(계기)를 찾기는 어렵지만, 밸류에이션을 고려하면 주가 하방 리스크는 제한적\"이라며 \"재무적 악재 중 상당 부분은 이미 반영됐다. 현시점에서 연간 실적 전망치의 하향 조정폭은 제한적일 것이라 판단한다\"고 했다.대부분의 증권사는 삼성전자에 7만원대 목표주가를 제시했다. 다만 iM증권은 목표주가를 7만1000원에서 6만8000원으로 내렸다. 올해 내내 반도체 가격이 하락할 것이란 분석에서다. 반면 미래에셋증권은 8만4000원을 제시했다. 오는 5월 전후로 메모리 가격 하락세가 꺾일 것으로 전망하면서다.'),\n",
       " Document(id='b7c4b981-7c34-41cd-a168-0c26bacf247c', metadata={'source': 'https://n.news.naver.com/mnews/article/021/0002683646', 'date': '2025-01-13'}, page_content='작년 시총 249조 증발… 삼성전자만 156조 줄어'),\n",
       " Document(id='1393013f-80fe-4f62-b475-732a23c159aa', metadata={'source': 'https://n.news.naver.com/mnews/article/011/0004441180', 'date': '2025-01-17'}, page_content='3700원에 마감해 4개월째 ‘5만 전자’로 지지부진한 모습이다. 지난해 7월 8만 8800원을 찍은 후 줄곧 우하향 곡선을 그리고 있으며 지난해 11월에는 4만 9900원까지 떨어지기도 했다. 고대역폭메모리(HBM) 기술 경쟁에서 뒤처진 게 가장 큰 원인이며 주가순자산비율(PBR)은 1.03배로 경쟁사인 SK하이닉스(2.56배)의 절반에도 못 미친다. 일부 임원의 자사주 매입은 전혀 주가 부양에 도움이 되지 못했다.다만 현재 삼성전자는 보유한 자사주가 없다. 2018년 보유 중이던(4조 8000억 원 규모) 자사주 전량을 소각했기 때문이다. 따라서 지난해 11월 발표한 10조 원 규모의 자사주 매입과 별도로 3조~4조 원을 추가로 들여 이번 성과급 지급에 쓰일 자사주를 추가 매입할 계획이다. 2월 이사회에서 이 같은 방안을 최종 의결할 예정이다.'),\n",
       " Document(id='166f0c7d-eeb9-405e-91f9-98ef839110a6', metadata={'source': 'https://n.news.naver.com/mnews/article/021/0002682735', 'date': '2025-01-08'}, page_content='작년 대기업 시총 251조원 증발… 삼성전자 166조↓, 전체 감소액의 66%'),\n",
       " Document(id='93d47ee0-65ca-40e8-a5db-e4f98f2972fb', metadata={'source': 'https://n.news.naver.com/mnews/article/016/0002413416', 'date': '2025-01-09'}, page_content='[게티이미지뱅크, 신동윤 기자 제작][헤럴드경제=신동윤 기자] “증권사에서 내놓는 목표주가를 사실 곧이 곧대로 믿진 않고 참고만 하고 있었는데, ‘6만전자’ 목표주가는 너무한 것 아닌가요.” (온라인 커뮤니티)지난해 4분기 시장 기대치에 한참 못 미치는 잠정 영업이익을 기록한 삼성전자에 대해 국내 증권사들이 실적 전망치를 잇따라 내려잡고 있다. 이런 가운데 삼성전자에 대한 목표주가로 ‘6만전자(삼성전자 주가 6만원대)’를 제시한 증권사까지 나오며 ‘삼전개미(삼성전자 소액 개인 투자자)’들의 속앓이가 심해지는 모양새다.송명섭 iM증권 연구원은 9일 보고서를 통해 삼성전자 목표주가를 기준 7만1000원에서 6만8000원으로 하향 조정했다.삼성전자에 대한 목표주가로 6만원대를 제시한 사례는 올 들어 이번이 처음이다.송명섭 연구원은 “올해 삼성전자의 영업이익 전망치는 전년 대비 36% 감소하는 21조원”이라며 “시장의 현재 컨센서스(전망치)는 아직 지나치게 높은 것으로 보인다”고 설명했다.금융정보업체 에프앤가이드에 따르면 삼성전자의 올해 실적에 대한 시장 전망치 평균은 33조1000억원이다. 송명섭 연구원이 제시한 수치는 컨센서스와 비교했을 때 10조원 넘게 낮은 수준이다.그는 “이러한 실적 컨센서스의 주요 논거는 메모리 반도체 가격이 오는 3분기부터 재상승할 것이라는 가정”이라며 “하지만 지난해 말까지 약 1년 반에 걸쳐 스마트폰, PC 재고가 지속해 증가했고 고객들의 레거시 메모리 반도체 재고 역시 여전히 높은 수준”이라고 설명했다.이어 “3분기부터 메모리 반도체 가격이 재상승한다면 이번 (가격) 하락 사이클의 지속 기간이 2개 분기에 불과하다는 의미”라며 “지난 20년간의 반도체 상승·하락 사이클의 지속 기간이 모두 1.5~2년이었음을 감안하면 (이는) 매우 이례적인 일이 될 것”이라고 말했다. 즉 반도체 가격 하락세가 시장 예상보다 길어질 것이라는 뜻으로 풀이된다.그러면서 “이미 밸류에이션 하락에 따라 (이 같은 낮은 기대에 대한) 주가 반영이 상당히'),\n",
       " Document(id='221186dd-d0ce-4978-8a90-4113f0948226', metadata={'source': 'https://n.news.naver.com/mnews/article/009/0005422210', 'date': '2025-01-01'}, page_content='시작으로 지난 하반기 내내 악재에 시달렸기 때문이다. 삼성전자는 32.22% 하락했다.브라질 증시는 브라질 재정이 수개월째 악화하는 상황에서도 브라질 정부가 오히려 확장 재정 정책을 실시하면서 헤알화 가치가 급락해 대표지수인 보베스파지수가 -10.36% 내려앉았다.'),\n",
       " Document(id='29db7bc9-9c2b-4dcb-b24b-d57614359111', metadata={'source': 'https://n.news.naver.com/mnews/article/029/0002927281', 'date': '2025-01-06'}, page_content='4Q 잠정 실적 앞둔 삼성전자, 증권가 목표가 `줄하향`\\n\\n\\n\"주요 사업부 전반적으로 감익이 불가피\" 반등은 언제?'),\n",
       " Document(id='d9026d90-02a1-4949-8844-2570c20c2874', metadata={'source': 'https://n.news.naver.com/mnews/article/421/0007999033', 'date': '2025-01-02'}, page_content='새해부터 삼성전자 목표가 잇단 하향…\"실적 회복 시점 지연\"'),\n",
       " Document(id='36eb0941-05d8-409f-8cf1-7efa79232994', metadata={'source': 'https://n.news.naver.com/mnews/article/366/0001044272', 'date': '2025-01-02'}, page_content='대신證 “삼성전자, 올해 2분기로 실적 회복 시점 지연…목표주가 하향 조정”\\n\\n\\n\\n\\n\\n\\n서울 서초구 삼성전자 사옥. /뉴스1        대신증권은 2일 삼성전자에 대해 실적 회복 시점이 올해 2분기로 지연될 것으로 예상했다. 이에 따라 투자 의견은 ‘매수’, 목표 주가는 기존 8만5000원에서 7만8000원으로 8% 하향 조정했다. 전 거래일 삼성전자의 종가는 5만3200원이다.대신증권은 삼성전자의 올해 매출액을 전년 대비 1.7% 증가한 306조원, 영업이익은 3.6% 증가한 35조원으로 추정했다. 신석환 대신증권 연구원은 “견조한 고대역폭메모리(HBM)·서버향 메모리 수요에도 불구하고 삼성전자의 HBM 양산 일정이 기대보다 지연됐으며, B2C(스마트폰, PC) 수요 둔화 및 레거시 메모리 공급 과잉에 따른 반도체 가격 하락이 나타났다”고 밝혔다..그러면서 “지난해 4분기 매출액은 76조6000억원, 영업이익은 7조6000억원으로 시장 전망치를 하회할 것으로 전망한다”며 “이는 특히 4분기 스마트폰 출하량 감소와 메모리 반도체 가격 하락 및 일회성 비용 반영, 파운드리 적자 지속과 북미 고객사향 경쟁 심화로 인한 디스플레이 수익성 악화에 기인한다”고 설명했다.신 연구원은 “다만 올해 매출액은 306조원, 영업이익은 30조5000억원으로 지난해 대비 소폭 개선될 것으로 예상된다”며 “IT 수요 개선과 DDR5·LPDDR5 중심 공급, 주요 고객사향 8단·12단 HBM3E의 점진적 공급 확대에 따른 성장이 기대된다”고 내다봤다.'),\n",
       " Document(id='dfde1643-8af6-48e1-8003-c56c53a15f12', metadata={'source': 'https://n.news.naver.com/mnews/article/016/0002412783', 'date': '2025-01-08'}, page_content='‘23개월만 최저 지분’ 외인, ‘低밸류’ 삼성전자에 컴백?…“HBM 성과 증명 선결 과제” [투자360]\\n\\n\\n2024Q4 영업익 6.5兆…證 추정치 대비 20.83% 하회證 예상 영업익 꾸준히 하향…주가 작년 최고점比 -36.9%“밸류 매력 부각 시점” vs “AI 경쟁력 의구심 여전”연초 外人 지분율 50.45%…“HBM 성과 증명, 파운드리 회복 선결 과제”\\n\\n\\n\\n[게티이미지뱅크, 신동윤 기자 제작][헤럴드경제=신동윤 기자] 삼성전자가 시장 전망치를 훨씬 밑돈 2024년도 4분기 성적표를 받아들었다. 증권가에선 이미 예상됐던 부진이 바닥까지 내려간 주가에 선반영된 만큼 향후 반등을 노린 ‘저가 매수’ 움직임이 나타날 수 있다는 전망과 동시에, AI 반도체 관련 기술 부진이란 선결 과제를 해소해야만 본격적인 우상향 곡선을 그릴 수 있다는 지적이 나온다.8일 삼성전자는 2024년도 4분기 잠정실적을 발표하면서 6조5000억원 규모의 영업이익을 기록했다고 밝혔다.이날 기준으로 금융정보업체 에프앤가이드가 집계한 국내 증권사들의 2024년도 4분기 삼성전자 예상 영업이익 컨센서스는 8조2105억원이다. 실제 결과치는 전망치에 비해 20.83%나 낮은 수준에 그친 것이다.증권 업계 전문가들은 삼성전자의 성적 부진이 이미 예견된 결과였지만, 실제 수치가 훨씬 더 충격적인 수준이라 평가한다. 지난 8월 말 기준 에프앤가이드가 집계한 작년 4분기 삼성전자 예상 영업이익 컨센서스는 14조6926억원에 달했다. 하지만, 9월 말 12조5540억원, 10월 말 11조549억원, 11월 말 9조7338억원으로 꾸준히 하향 조정된 바 있다.실적 악화에 대한 전망은 그동안 투심에도 큰 영향을 미쳤다. 작년 7월 10일 종가 기준 8만7800원까지 치솟았던 삼성전자 주가는 전날 종가(5만5400원)까지 36.9%나 내려앉았다.'),\n",
       " Document(id='f565a951-8796-4433-83d9-22169d117652', metadata={'source': 'https://n.news.naver.com/mnews/article/243/0000071390', 'date': '2025-01-16'}, page_content='국민연금 아픈 손가락 된 삼성전자…“하이닉스 보고 웃는다”\\n\\n\\n4분기 주식 평가액 4.4조↓…삼성전자 하락분 2.5조 달해'),\n",
       " Document(id='bffd1f6e-7adb-49d2-854a-04df9aeb308b', metadata={'source': 'https://n.news.naver.com/mnews/article/015/0005079994', 'date': '2025-01-09'}, page_content='사진=뉴스1국내 증시 대장주 삼성전자가 지난해 4분기 6조5000억원대 영업이익을 내는 데 그쳤다. 증권가 추정치를 20%가량 밑돈 성적이다. 스마트폰·PC 수요가 줄어 수익성이 악화한 것으로 풀이된다. 파운드리(반도체 수탁 생산) 부문의 적자도 늘어난 것으로 추정된다. 다만 전문가들은 현재 삼성전자의 밸류에이션(실적 대비 주가 수준)은 역사적 저점에 있어 추가적인 주가 하락 가능성은 작다고 진단했다. \"파운드리 투자, \\'밑 빠진 독에 물 붓기\\' 됐다\"9일 금융감독원 전자공시시스템에 따르면 전날 삼성전자는 연결 기준 지난해 4분기 영업이익이 6조5000억원으로 전년 동기보다 130.5% 증가한 것으로 잠정 집계됐다고 공시했다. 다만 직전 분기인 지난해 3분기와 비교하면 영업이익은 29.19% 감소했다.영업이익은 증권가 전망치를 큰 폭으로 밑돌았다. 증권가에서는 당초 지난해 4분기 영업이익으로 10조원 안팎까지 예상했다가 최근 전망치를 7조원대까지 낮춰 잡았다. 하지만 잠정치는 하향 조정된 전망치에도 미치지 못했다.이민희 BNK투자증권 연구원은 \"삼성전자 실적 부진의 주원인은 반도체 부문의 수익성 악화\"라며 \"반도체(DS부문)의 수익성이 급격히 악화한 것은 수요 악화, 감가상각비·성과급 추가 충당·연구개발(R&D) 등 비용 증가, 파운드리 사업 대규모 적자 때문\"이라고 설명했다. 이어 \"시스템LSI 사업 부문은 4분기에만 2조3300억원의 적자를 낸 것으로 추정된다\"며 \"평택공장 가동으로 비용은 늘었지만, 모바일 고객사의 재고고정 영향으로 가동률이 급격히 하락한 영향\"이라고 분석했다.이승우 유진투자증권 연구원은 \"2023~2024년 비메모리 부문의 적자는 8조원에 육박한 것으로 추정된다. 지금까지 진행된 막대한 투자가 \\'밑 빠진 독에 물 붓기\\'가 된 셈\"이라고 지적했다. 이어 \"삼성전자에게 더 급한 것은 본업인 메모리의 경쟁력 회복\"이라고 제시했다.작년보다 올해 실적이 개선될 것이란 전망도 제시됐다. 메모리 재고가 줄고 있으며 스마트폰 수요 회복이 기대된다는'),\n",
       " Document(id='d7a5418f-58a2-4220-9ceb-b66e294afb65', metadata={'source': 'https://n.news.naver.com/mnews/article/029/0002929124', 'date': '2025-01-13'}, page_content='돈을 자사주 매입에 투입해야 하는 만큼, 재정 상황도 고려해야 한다. 이미 2026년까지 10조원 가까운 돈을 배당하겠다고 밝힌 상황이지만 영업이익은 시장 전망치를 크게 밑돌고 있는 상황이다.다만 삼성전자의 자사주 매입이 주가에 큰 영향을 미치지 못하는 것은 예상이 가능한 수준이었던 만큼 낮아진 밸류에이션 매력에 따라 주가가 반등할 수 있다는 분석도 나온다. 한 시장 전문가는 \"삼성전자의 주식 유통물량을 감안하면 자사주 매입은 주가의 하방을 지지하는 수준에 그칠 것\"이라며 \"결국 주가 반등을 위해서는 대내외 정책 여건과 내부 경쟁력 강화가 선결돼야 한다\"고 말했다.'),\n",
       " Document(id='0f83e92c-ce74-4cbf-b2d1-72bbc35194e3', metadata={'source': 'https://n.news.naver.com/mnews/article/014/0005298997', 'date': '2025-01-21'}, page_content='\"악재란 악재 다 반영됐다\"… 삼성전자 주가 반등 기대감\\n\\n\\n최근 한 달 연기금 순매수 1위증권가, 목표가 8만원대 제시갤S25 9년만에 최대 판매 전망'),\n",
       " Document(id='a931030b-a528-49b9-a6ba-1ec8afd78565', metadata={'source': 'https://n.news.naver.com/mnews/article/015/0005087321', 'date': '2025-01-28'}, page_content='삼성전자 HBM3E 12단 제품. /사진=삼성전자현재 주가 수준은 역사적 하단을 기록하고 있는 만큼 더 내려갈 가능성이 크지는 않으나 실적 모멘텀이 본격적으로 나타날 하반기까지는 횡보할 가능성이 높다는 게 전문가들의 예상이다.실제 삼성전자 주가는 최근 6개월간 32% 하락해 주가순자산비율(PBR) 0.9배 수준으로 내려왔다. 반도체 실적만 놓고 보면 지난해 SK하이닉스에도 따라잡혔다. 반도체 사업만 하는 SK하이닉스는 지난해 영업이익 23조4673억원을 기록해 15조원대로 추정되는 삼성전자 디바이스솔루션(DS) 부문의 영업이익을 처음으로 추월했다.이 사이 SK하이닉스 시가총액은 160조원 수준으로 삼성전자(320조원)의 50% 수준까지 커졌다. SK하이닉스 시총은 2022년 말에는 삼성전자의 16%에 불과했다.노근창 현대차증권 연구원은 \"삼성전자의 올 1분기 영업이익은 반도체 부문 실적이 추가적으로 악화될 것으로 예상되지만 갤S25 판매 효과에 힘입어 직전 분기와 유사한 영업이익을 낼 전망\"이라며 \"범용 메모리 업황 부진이 지속될 것이라는 점에서 연간 실적 저점은 2분기가 될 것\"이라고 관측했다.김광진 한화투자증권 연구원은 \"올해 삼성전자 실적과 주가는 전통 메모리에서 수요가 급반전되기는 무리가 있기 때문에 결국 HBM 시장 성과가 매우 중요하다\"며 \"올 3분기로 예상하는 주요 미국 고객사로의 HBM3E 12단 판매 확대가 이뤄지지 못한다면 경쟁사 대비 불리한 구도가 지속될 가능성이 높다\"고 말했다.'),\n",
       " Document(id='d1bca46a-cdec-493e-bf1f-c1f43848d413', metadata={'source': 'https://n.news.naver.com/mnews/article/015/0005076930', 'date': '2025-01-02'}, page_content='서울 서초구 삼성전자 사옥 앞. 사진=뉴스1삼성전자 실적 추정치 하향이 새해에도 이어지고 있다. 작년 4분기 ‘어닝 쇼크’(실적 추정치 큰 폭 하회)가 확실시되는 가운데, 올해 실적도 부진을 벗어나지 못할 전망이다. 엔비디아로의 고대역폭메모리반도체(HBM) 공급이 본격화되거나, 스마트폰과 PC 수요 회복에 따른 범용 메모리반도체 수요 회복이 절실하다는 분석이 나온다.2일 금융정보업체 에프앤가이드에 따르면 전일 집계 기준 삼성전자의 작년 4분기 영업이익 컨센서스(증권사 추정치 평균)는 8조9732억원이다. 최근 한달 동안 7.81% 하향됐다.이날도 한국투자증권과 대신증권이 삼성전자의 작년 4분기 영업이익 추정치를 각각 7조6605억원과 7조3000억원으로 낮춰잡았다. 목표주가도 7만8000원과 7만7000원으로 내렸다.채민숙 한국투자증권 연구원은 “모바일과 PC 제조사를 중심으로 다시금 재고 조정이 시작돼 범용 메모리 반도체 수요가 예상보다 낮았을 것”이라며 “(이로 인해) 전체 D램 비트 그로스(용량 기준 반도체 생산량 증가율)는 가이던스(자체 전망치)를 밑돌 것”이라고 말했다.문제는 올해 전망치도 깎이고 있다는 점이다. 삼성전자의 올해 연간 영업이익 컨센서스는 40조3709억원이다. 한달 전 대비 7.21% 하향 조정됐다. 이날 새로 제시된 한국투자증권과 대신증권의 추정치는 각각 약 35조2520억원과 35조원이다.현재 주가는 이 같은 부정적인 전망을 상당 부분 반영했다는 분석이다. 신석환 대신증권 연구원은 “현재 삼성전자 주가는 주가순자산비율(PBR) 0.9배 수준으로 여전히 밸류에이션(실적 대비 주가 수준)은 낮은 수준”이라며 “상반기 메모리반도체 재고 조정이 이뤄진 이후의 반도체 업황 회복 기대, 자사주 매입 진행에 따라 추가적인 하락 가능성은 적다”고 말했다. 삼성전자의 작년 종가는 5만3200원으로, 한 해 동안 32.23% 하락했다.다만 주가가 추세적으로 강세를 보이기도 힘들다는 의견도 있다. 류영호 NH투자증권 연구원은 “메모리 반도체 수요에'),\n",
       " Document(id='4e093aed-7397-4fd1-a364-27066f0dfc07', metadata={'source': 'https://n.news.naver.com/mnews/article/421/0008027399', 'date': '2025-01-17'}, page_content='삼성전자, 미중 갈등 불확실성 속 美빅테크 떨어지자 약세[핫종목]\\n\\n\\n밸류에이션 부담 느낀 빅테크주, 하락 마감잠정 영업이익 추정치 하회도 주가 하락에 반영'),\n",
       " Document(id='202cd6c0-1489-4cd7-b517-006398ddd6c3', metadata={'source': 'https://n.news.naver.com/mnews/article/421/0008019291', 'date': '2025-01-13'}, page_content='주식시장을 위협하고 있으며 한국뿐 아니라 아시아 주식시장이 금일 동반 낙폭을 확대했다\"며 \"미국 대중 반도체 추가 규제 소식에 국내 반도체도 약세를 기록했고 SK하이닉스의 상대적 낙폭이 크게 확대됐다\"고 분석했다.'),\n",
       " Document(id='bdbd59c7-ac09-41ea-afc7-c5e853e3c43a', metadata={'source': 'https://n.news.naver.com/mnews/article/016/0002421444', 'date': '2025-01-28'}, page_content='중국발 저가 AI 딥시크 등장…AI관련 업종 중심으로 나스닥 3% 급락\\n\\n\\n뉴욕 증시 AI관련 업종 중심 급락신규 데이터센터 수요 줄어들 것 …전력 인프라·원전·발전업체 주가도↓'),\n",
       " Document(id='45e9ac11-a74a-48b4-9d0b-9f18469f3b60', metadata={'source': 'https://n.news.naver.com/mnews/article/421/0008027399', 'date': '2025-01-17'}, page_content='크게 둔화됐다는 점을 시사하기 때문이다.엔비디아는 중국 정부가 미국의 칩 법, 즉 반도체 보조금 및 덤핑 의혹에 대한 조사를 시작했다는 소식이 전해진 점이 주가 하락을 부추겼다. 애플은 중국에서 아이폰 판매량이 부진한 가운데 3위로 하락했다는 소식이 악재로 작용했다.'),\n",
       " Document(id='d202fc79-25f0-45d2-90d8-03a3df69b112', metadata={'source': 'https://n.news.naver.com/mnews/article/011/0004434868', 'date': '2025-01-02'}, page_content='것이라는 우려에서다.여기에 작년 말부터 환율이 빠르게 치솟자 고환율 수혜 대신 비용 증가 부담이 늘어날 것으로 보인다. 수출 대신 시설 투자 및 반도체 장비와 설비 구입비용이 증가하면서 투자비가 상당 부분 늘 것으로 예상된다.증권가에서도 삼성전자의 목표주가를 하향 조정하는 추세다. 지난 한 달 동안 NH투자증권, KB증권, 키움증권 등을 비롯해 10곳의 증권사가 목표주가를 하향했다.채민숙 한국투자증권 연구원은 \"작년에 이어 올해에도 IT 하드웨어 세트 수요는 전년 대비 한 자리 수 초중반 퍼센트(%)의 미약한 성장에 그칠 것이란 전망이 우세하다\"고 전했다.'),\n",
       " Document(id='2422f245-428a-4c7b-bffd-10ef47c20f35', metadata={'source': 'https://n.news.naver.com/mnews/article/014/0005289760', 'date': '2025-01-01'}, page_content='상장사 10곳 중 3곳 실적 전망치 추가 하락...증권가 \"먼저 하락한 업종 주목\"\\n\\n\\n\\n\\n\\n\\n사진=연합뉴스'),\n",
       " Document(id='e26ab068-d56b-4c47-b021-bf766514b7b8', metadata={'source': 'https://n.news.naver.com/mnews/article/366/0001049784', 'date': '2025-01-26'}, page_content='영향을 미칠 것이 명확하다.최근 들어 자본시장법 개정이나 상법 개정과 관련한 논란이 본격화하고 있다. 한국 주식시장이 단기간의 이익에 눈이 멀어 결국은 사라져 버린 용팔이의 전철을 밟지 않기 위해서 가야 할 길은 명백해 보인다.'),\n",
       " Document(id='a418fb9e-9ee8-401a-b148-034f1309a430', metadata={'source': 'https://n.news.naver.com/mnews/article/421/0008021334', 'date': '2025-01-14'}, page_content='하락했다.이같은 호재가 없는 △퀀텀컴퓨팅(-27.39%) △리게티컴퓨팅(-32.25%) △디웨이브퀀텀(-33.62%) △실스큐(-41.54%) 등은 젠슨 황 발언 당시만큼 주가가 빠졌다.'),\n",
       " Document(id='a110cd13-8506-4bc3-b858-72b81400e00b', metadata={'source': 'https://n.news.naver.com/mnews/article/008/0005135601', 'date': '2025-01-01'}, page_content='믿을 건 AI뿐…국내 선호도 1위 SK하이닉스, 해외 1위는?\\n\\n\\n[2025년 증시 설문] ③ 올해 국내외 증시 주도할 업종·종목은?'),\n",
       " Document(id='af1c7018-1788-46b1-98cc-db0d749b0766', metadata={'source': 'https://n.news.naver.com/mnews/article/215/0001195536', 'date': '2025-01-17'}, page_content=\"뉴욕증시서 애플 의문의 '급락'...3대 지수 하락\"),\n",
       " Document(id='35293021-78a8-46ca-8133-1cb32bb02f3d', metadata={'source': 'https://n.news.naver.com/mnews/article/001/0015149187', 'date': '2025-01-08'}, page_content='삼성전자 실적 최악은 피했다?…외국인 매수에 주가 3.4%↑(종합)\\n\\n\\n장초반 반등 후 3%대 강세 유지…외국인 2천800억원 순매수\"낮아질 대로 낮아진 기대치, 역발상적 주가흐름 야기\"'),\n",
       " Document(id='ad397f32-f196-4e22-9dbe-c65a7f622a0e', metadata={'source': 'https://n.news.naver.com/mnews/article/417/0001049336', 'date': '2025-01-03'}, page_content='현재 레거시 메모리 반도체 재고 역시 매우 높은 수준임을 감안할 때 반도체 가격의 하락이 좀 더 이어질 것\"이라며 \"내년 삼성전자 영업이익에 대한 현재 컨센서스(시장 평균 전망치)는 여전히 높다\"고 짚었다.이어 \"반도체 하락 사이클이 이제 막 시작됐고 회사 실적에 대한 컨센서스가 추가로 하향 조정될 가능성이 높아 본격적인 주가 상승에는 좀 더 시간이 필요할 것\"이라고 강조했다.━\\'트럼프 2기 출범\\' 국내증시에 미칠 영향력은? ━'),\n",
       " Document(id='6c22c4f4-31b8-42cb-963f-5bc7d37e6fbb', metadata={'source': 'https://n.news.naver.com/mnews/article/011/0004434496', 'date': '2025-01-01'}, page_content='TOP 150’ 지수 역시 -32.04%의 수익률을 기록하며 부진한 성과를 거뒀다. 2차전지 기업은 지난해 전기차 캐즘(일시적 수요 둔화)과 중국 배터리 기업과의 가격 경쟁에서 밀리며 부진한 모습을 보였다.'),\n",
       " Document(id='e5eb885c-96ec-4819-a97e-48cf58bbcce8', metadata={'source': 'https://n.news.naver.com/mnews/article/018/0005920592', 'date': '2025-01-08'}, page_content='매크로 악재에 하락 가능성…삼성전자 실적 주목[오늘증시전망]\\n\\n\\n엔비디아 중심 나스닥 약세에 하락 출발 전망개장 전 삼성전자 잠정실적 주목시장 관심, CES에서 JP헬스케어 컨퍼런스로[이데일리 이정현 기자] 한국 증시가 매크로 악재 등으로 하락 출발할 것이란 전망이 나왔다. 다만 환율이 안정세를 보이고 있는데다 삼성전자(005930)와 LG전자(066570) 등의 잠정실적 이벤트가 예정된 만큼 이를 소화하며 낙폭 축소에 나설 가능성이 있다.')]"
      ]
     },
     "execution_count": 41,
     "metadata": {},
     "output_type": "execute_result"
    }
   ],
   "execution_count": 41
  },
  {
   "metadata": {
    "ExecuteTime": {
     "end_time": "2025-01-30T03:43:08.168827Z",
     "start_time": "2025-01-30T03:43:05.143144Z"
    }
   },
   "cell_type": "code",
   "source": [
    "# ----------------------------------------------------------\n",
    "# 4. Reranker (CrossEncoder)\n",
    "# ----------------------------------------------------------\n",
    "class CustomCrossEncoderReranker:\n",
    "    \"\"\"\n",
    "    Simple Cross-Encoder-based reranker that re-scores \n",
    "    (query, doc) pairs and sorts by highest relevance.\n",
    "    \"\"\"\n",
    "\n",
    "    def __init__(self, model_name: str):\n",
    "        logger.info(f\"Initializing CrossEncoder reranker with: {model_name}\")\n",
    "        self.rerank_model = CrossEncoder(model_name)\n",
    "\n",
    "    def rerank(self, query: str, docs: List[Document], top_k: int = RAGConfig.rerank_top_k) -> List[Document]:\n",
    "        \"\"\"\n",
    "        Re-ranks the docs by CrossEncoder score. Returns top_n documents.\n",
    "        \"\"\"\n",
    "        # Prepare pairs\n",
    "        pair_inputs = [(query, d.page_content) for d in docs]\n",
    "        scores = self.rerank_model.predict(pair_inputs)\n",
    "\n",
    "        # Sort by descending score\n",
    "        idx_scores = list(enumerate(scores))\n",
    "        idx_scores.sort(key=lambda x: x[1], reverse=True)\n",
    "        top_docs = [docs[i] for (i, s) in idx_scores[:top_k]]\n",
    "\n",
    "        logger.info(\"Reranker top doc scores:\")\n",
    "        for i, (idx, s) in enumerate(idx_scores[:top_k]):\n",
    "            logger.info(f\"{i + 1}) Score={s:.4f}, doc source={docs[idx].metadata.get('source', '')}\")\n",
    "        return top_docs\n",
    "    \n",
    "reranker = CustomCrossEncoderReranker(\"cross-encoder/ms-marco-MiniLM-L-12-v2\")\n",
    "user_query = \"미국의 AI 데이터센터 뉴스와 관련되어 주목할만한 테마가 있어?\"\n",
    "mq_docs = mq_retriever.invoke(user_query)\n",
    "rerank_docs = reranker.rerank(user_query, mq_docs)"
   ],
   "id": "1e5f23b4690c01e8",
   "outputs": [
    {
     "name": "stderr",
     "output_type": "stream",
     "text": [
      "2025-01-30 12:43:05,146 [INFO] RAG-MultiQuery-Reranker - Initializing CrossEncoder reranker with: cross-encoder/ms-marco-MiniLM-L-12-v2\n",
      "2025-01-30 12:43:05,624 [INFO] sentence_transformers.cross_encoder.CrossEncoder - Use pytorch device: cuda\n",
      "2025-01-30 12:43:07,699 [INFO] httpx - HTTP Request: POST https://api.openai.com/v1/chat/completions \"HTTP/1.1 200 OK\"\n",
      "2025-01-30 12:43:07,702 [INFO] langchain.retrievers.multi_query - Generated queries: ['1. 최근 3개월간 미국 AI 데이터센터와 관련된 주요 기업의 주가 변동은 어땠나요?  ', '2. 2024년도 미국 AI 데이터센터 투자 전망에 대한 분석과 관련된 주요 경제 지표는 무엇인가요?  ', '3. 미국의 AI 데이터센터 시장 성장률과 이로 인한 관련 기업들의 수익성 변화에 대한 장기적인 트렌드는 어떤가요?']\n"
     ]
    },
    {
     "data": {
      "text/plain": [
       "Batches:   0%|          | 0/2 [00:00<?, ?it/s]"
      ],
      "application/vnd.jupyter.widget-view+json": {
       "version_major": 2,
       "version_minor": 0,
       "model_id": "1986ff118764407fa3fa74c41aa8054e"
      }
     },
     "metadata": {},
     "output_type": "display_data"
    },
    {
     "name": "stderr",
     "output_type": "stream",
     "text": [
      "2025-01-30 12:43:08,164 [INFO] RAG-MultiQuery-Reranker - Reranker top doc scores:\n",
      "2025-01-30 12:43:08,164 [INFO] RAG-MultiQuery-Reranker - 1) Score=8.2034, doc source=https://n.news.naver.com/mnews/article/009/0005435367\n",
      "2025-01-30 12:43:08,165 [INFO] RAG-MultiQuery-Reranker - 2) Score=8.1473, doc source=https://n.news.naver.com/mnews/article/016/0002411373\n",
      "2025-01-30 12:43:08,165 [INFO] RAG-MultiQuery-Reranker - 3) Score=7.9541, doc source=https://n.news.naver.com/mnews/article/009/0005431897\n",
      "2025-01-30 12:43:08,165 [INFO] RAG-MultiQuery-Reranker - 4) Score=7.9413, doc source=https://n.news.naver.com/mnews/article/011/0004444337\n",
      "2025-01-30 12:43:08,165 [INFO] RAG-MultiQuery-Reranker - 5) Score=7.9374, doc source=https://n.news.naver.com/mnews/article/018/0005930350\n"
     ]
    }
   ],
   "execution_count": 46
  },
  {
   "metadata": {
    "ExecuteTime": {
     "end_time": "2025-01-30T03:43:47.552129Z",
     "start_time": "2025-01-30T03:43:44.033636Z"
    }
   },
   "cell_type": "code",
   "source": [
    "from langchain.retrievers.document_compressors import CrossEncoderReranker\n",
    "\n",
    "rerank_model = HuggingFaceCrossEncoder(model_name=\"Dongjin-kr/ko-reranker\")\n",
    "compressor = CrossEncoderReranker(model=rerank_model, top_n=3)\n",
    "\n",
    "comp_retriever = ContextualCompressionRetriever(\n",
    "    base_compressor=compressor,\n",
    "    base_retriever=mq_retriever\n",
    ")\n",
    "comp_retriever.invoke(\"삼성전자가 최근에 주가가 떨어지는 이유는 뭐야?\")"
   ],
   "id": "82911a14e6536ca3",
   "outputs": [
    {
     "name": "stderr",
     "output_type": "stream",
     "text": [
      "2025-01-30 12:43:45,071 [INFO] sentence_transformers.cross_encoder.CrossEncoder - Use pytorch device: cuda\n"
     ]
    }
   ],
   "execution_count": 47
  },
  {
   "metadata": {},
   "cell_type": "code",
   "outputs": [
    {
     "name": "stderr",
     "output_type": "stream",
     "text": [
      "2025-01-30 12:44:01,374 [INFO] httpx - HTTP Request: POST https://api.openai.com/v1/chat/completions \"HTTP/1.1 200 OK\"\n",
      "2025-01-30 12:44:01,380 [INFO] langchain.retrievers.multi_query - Generated queries: ['1. 삼성전자의 최근 분기 실적 발표가 주가 하락에 미친 영향은 무엇인가요?', '2. 최근 1년 동안 삼성전자의 주가 변동과 관련된 외부 요인은 어떤 것들이 있나요?', '3. 삼성전자의 경쟁 업체와 비교했을 때, 최근 주가 하락의 원인은 무엇인지 분석해 주세요.']\n"
     ]
    },
    {
     "data": {
      "text/plain": [
       "Batches:   0%|          | 0/3 [00:00<?, ?it/s]"
      ],
      "application/vnd.jupyter.widget-view+json": {
       "version_major": 2,
       "version_minor": 0,
       "model_id": "950fb6bb49554022b461029246f18c23"
      }
     },
     "metadata": {},
     "output_type": "display_data"
    },
    {
     "data": {
      "text/plain": [
       "[Document(id='0cb7f736-2938-4e24-94b3-c0915056a00e', metadata={'source': 'https://n.news.naver.com/mnews/article/119/0002910180', 'date': '2025-01-03'}, page_content='삼성전자 서초사옥 전경. ⓒ데일리안 DB[데일리안 = 황인욱 기자] 지난해 글로벌 증시 대비 국내 증시의 부진이 두드러졌던 한 요인으로 삼성전자의 하락세가 지목된다. 새해 코스피지수가 상승 국면에 들기 위한 조건으로 삼성전자의 반등세가 절실하나 반도체 업황 우려가 여전해 투심 회복에 시간이 걸릴 것이라는 관측이 나온다.3일 한국거래소에 따르면 작년 말 기준 코스피 시가총액은 1963조3288억원으로 연초(2024년 1월 2일 기준) 2147조2239억원 대비 8.56%(183조8951억원) 감소했다. 이 기간 삼성전자 시총은 475조1957억원에서 319조3834억원으로 32.79%(155조8123억원) 줄었다.작년 코스피 전체 시총 감소분에서 삼성전자가 차지하는 비중은 84.73%에 달했다. 시총 1위 삼성전자의 주가가 32.23%(7만8500→5만3200원)로 하락하며 지수도 9.63%(2655.28→2399.49) 내렸다.삼성전자의 주가 하락은 외국인 수급 이탈 영향이 컸다. 외국인은 작년 한 해(2024.1.2~2024.12.30) 동안 코스피 주식을 2조7464억원 순매수하면서도 삼성전자는 10조5197억원이나 순매도했다.특히 외국인은 작년 9월부터 연말까지 순매도 기조를 보이며 지수 하방 압력을 높였는데 이 기간 외국인의 삼성전자 순매도 규모는 19조1979억원으로 코스피 순매도 19조1416억원을 상회했다. 사실상 삼성전자에만 매도 주문을 쏟아낸 셈이다.박소연 신영증권 연구원은 “작년 외국인 순매매 동향을 집계해보면 특이한 현상이 하나 관찰되는데 삼성전자 한 종목을 제외하면 외국인은 한국시장에서 12조원 가까이를 순매수했다는 점”이라며 “12월 탄핵 정국 이후 은행 등 여타 업종으로 매도세가 번지고 있긴 하나 주류라고 보긴 어렵고 여전히 외국인 매도의 70%는 삼성전자에 집중돼 있다”고 설명했다.삼성전자에 대한 투심 악화 배경으로는 범용(레거시) 메모리의 수요 약화와 재고조정 진행으로 업황 회복 시기가 예상보다 늦어질 것이란 우려가 지목된다.'),\n",
       " Document(id='bcf1cb20-b269-4178-a4ab-5286eb4f201c', metadata={'source': 'https://n.news.naver.com/mnews/article/001/0015149187', 'date': '2025-01-08'}, page_content='풀이된다.    이경민 대신증권 연구원은 \"낮아질 대로 낮아진 기대치로 인해 실적이 예상보다 부진했음에도 불구하고 강한 안도 심리를 자극한 것으로 볼 수 있다\"며 \"삼성전자 주가 수준이 고점 대비 40% 이상 하락하는 등 역사적 저점권에 위치함에 따라 이런 역발상적 주가 흐름이 가능했다고 판단된다\"고 말했다.    josh@yna.co.kr'),\n",
       " Document(id='28427d87-bc46-4f31-a5ce-fa51b88cf206', metadata={'source': 'https://n.news.naver.com/mnews/article/417/0001050311', 'date': '2025-01-07'}, page_content='7일 삼성전자 주가가 실적 발표를  하루 앞두고 하락했다.  지난해 11월14일 오후 서울 여의도 한국거래소 홍보관에서  직원이 삼성전자 주가가 표시된 화면을 보고 있다. /사진=조성봉 삼성전자 주가가 지난해 4분기 실적 발표를 하루 앞둔 7일 다시 하락했다. 이달 2일부터 3거래일 연속으로 오른 삼성전자 주가는 지난해 4분기 삼성전자 실적이 부진했을 것이란 증권가 추정이 이어지며 다시 떨어진 것이다. 이날(7일) 삼성전자는 전 거래일 보다 500원(0.89%) 하락한 5만5400원에 거래를 마쳤다. 삼성전자 주가는 지난해 10월16일부터 56거래일 동안 5만원대에 머물고 있다. 마지막으로 6만원대를 기록한 것은 지난해 10월15일(6만1000원)이다. 삼성전자 주가는 이달 2일 5만3400원으로 전 거래일보다 200원 상승한 이후 3일엔 5만4400원, 6일 5만5900원으로 오르며 상승세를 보였다. 하지만 지난해 4분기 삼성전자 실적이 부진할 것으로 추정하며 삼성전자 주가는 올해 국내 증시가 첫 개장한지 4거래일 만에 하락세로 전환했다. 증권가에 따르면 삼성전자의 영업이익 전망치는 지난해 8월 15조원에 가까웠지만 5개월 만에 영업이익 전망치가 반토막이 났다. SK증권은 삼성전자 4분기 연결 영업이익을 7조3000억원을 기록할 것으로 전망했다. 이는 전 분기 대비 20% 감소한 수준이다. 목표주가는 기존 8만6000원에서 7만7000원으로 내려잡았다.  한동희 SK증권 연구원은 \"세트 수요 부진과 계절 비수기 영향, 경쟁 강도 심화 등으로 스마트폰과 디스플레이, 비메모리, 메모리 등 주요 사업부 전반적으로 감익이 불가피해 보인다\"고 판단했다. 이어 \" 메모리에서의 다소 더딘 경쟁력 회복 속 Legacy 시장 내 경쟁 강도 증가로 단기간 내 업종 내 실적 차별화 가시성이 제한적일 것으로 보인다\"고 전망했다. 정민규 상상인증권 연구원도 이달 삼성전자 목표주가를 기존 8만5000원에서 7만7000원으로 낮췄다. 정 연구원은 \"올 1분기 DDR4와 DDR5 가격')]"
      ]
     },
     "execution_count": 48,
     "metadata": {},
     "output_type": "execute_result"
    }
   ],
   "execution_count": 48,
   "source": "comp_retriever.invoke(\"삼성전자가 최근에 주가가 떨어지는 이유는 뭐야?\")",
   "id": "1ab5d68cf9b62985"
  },
  {
   "metadata": {
    "ExecuteTime": {
     "end_time": "2025-01-30T03:51:59.148476Z",
     "start_time": "2025-01-30T03:51:59.143673Z"
    }
   },
   "cell_type": "code",
   "source": [
    "fin_analysis_template = \"\"\"\n",
    "[시스템 역할 / 설정]\n",
    "당신은 “투자 전문가”이다. 주식·투자 전반에 대한 폭넓은 지식과 인사이트를 갖추고 있으며, \n",
    "증권 뉴스나 관련 문헌(Context)을 빠르게 분석할 수 있다.\n",
    "\n",
    "[지시사항]\n",
    "1. 질문 유형 구분\n",
    "   - \"분석\" 질문: 미래 투자 포인트, 주가 동향, 향후 전망과 그 이유를 설명\n",
    "   - \"검색\" 질문: 주어진 context 범위 안에서 정확한 사실(fact)을 기술\n",
    "   \n",
    "2. 답변 방식\n",
    "   - 만약 질문이 \"분석\" 유형이라면:\n",
    "     - (a) LLM이 이미 알고 있는 금융 지식(in-memory)과\n",
    "     - (b) 위 Context(증권 뉴스)를 종합해,\n",
    "     - **미래전망**이나 **투자 기회**, **재무적 분석**, **시장 트렌드** 등을 제시한다.\n",
    "     - 중요한 근거(뉴스 속 정보, 과거 데이터 등)를 요약적으로 포함하고,\n",
    "     - 예측에 대한 논리와 이유를 구체적으로 설명한다.\n",
    "   - 만약 질문이 \"검색\" 유형이라면:\n",
    "     - (a) 위 Context 내 명시된 정보에 집중하며,\n",
    "     - (b) 확인된 사실만 전달한다 (추측·예측은 삼가기).\n",
    "     - 특정 주가 변동, 공시 정보, 뉴스에 언급된 사실 등에 대해서만 언급하고,\n",
    "     - 맥락 밖 추론은 피한다.\n",
    "\n",
    "3. 답변 작성 시 유의사항\n",
    "   - “투자 전문가”의 관점에서 **신뢰성** 있고 **명확한 근거**를 제시한다.\n",
    "   - 필요 시 문장 말미에 “예측일 뿐이며, 실제 투자 판단은 본인의 책임”이라는 식의 간단한 주의 문구를 포함해도 좋다.\n",
    "   - 답변을 최대한 간결하고 핵심만 요약하되, 질문이 분석을 요구한다면 **전문적인 어휘**와 **근거**를 충분히 제시한다.\n",
    "\n",
    "[최종 출력 (Answer)]\n",
    "위 지시사항과, \"투자 전문가\"라는 역할, 그리고 두 가지 질문 유형에 따른 답변 방식을 적용하여 사용자 질문에 대한 답변을 완성하세요.\n",
    "\n",
    "[사용자 질문 (User Query)]\n",
    "{question}\n",
    "\n",
    "[주어진 Context (증권 뉴스)]\n",
    "{context}\n",
    "\"\"\"\n",
    "\n",
    "prompt = PromptTemplate.from_template(fin_analysis_template)"
   ],
   "id": "d82bbae4110246a3",
   "outputs": [],
   "execution_count": 50
  },
  {
   "metadata": {
    "ExecuteTime": {
     "end_time": "2025-01-30T03:51:59.853981Z",
     "start_time": "2025-01-30T03:51:59.415052Z"
    }
   },
   "cell_type": "code",
   "source": [
    "generator = ChatOpenAI(model_name=RAGConfig.openai_model_name, temperature=0)\n",
    "\n",
    "rag_chain = (\n",
    "\n",
    "        {\"context\": comp_retriever, \"question\": RunnablePassthrough()}\n",
    "        | prompt\n",
    "        | generator\n",
    "        | StrOutputParser()\n",
    "        | (lambda x: x.split('\\n'))\n",
    ")"
   ],
   "id": "391f658e933e3d8a",
   "outputs": [],
   "execution_count": 51
  },
  {
   "metadata": {
    "ExecuteTime": {
     "end_time": "2025-01-30T03:52:35.372959Z",
     "start_time": "2025-01-30T03:52:25.066324Z"
    }
   },
   "cell_type": "code",
   "source": "output = rag_chain.invoke(\"삼성전자 지금 사도 되나요?\")",
   "id": "485b6f50fc5c6dd4",
   "outputs": [
    {
     "name": "stderr",
     "output_type": "stream",
     "text": [
      "2025-01-30 12:52:26,654 [INFO] httpx - HTTP Request: POST https://api.openai.com/v1/chat/completions \"HTTP/1.1 200 OK\"\n",
      "2025-01-30 12:52:26,668 [INFO] langchain.retrievers.multi_query - Generated queries: ['1. 삼성전자의 현재 주가가 앞으로 1개월 동안 상승할 가능성이 얼마나 될까요?', '2. 삼성전자의 PER(주가수익비율)은 현재 얼마이며, 경쟁사 대비 어떠한가요?', '3. 최근 삼성전자에 대한 시장 전망이나 애널리스트의 추천이 어떻게 변화했나요?']\n"
     ]
    },
    {
     "data": {
      "text/plain": [
       "Batches:   0%|          | 0/3 [00:00<?, ?it/s]"
      ],
      "application/vnd.jupyter.widget-view+json": {
       "version_major": 2,
       "version_minor": 0,
       "model_id": "025fd170518d4087abfb7cd3bf2d317c"
      }
     },
     "metadata": {},
     "output_type": "display_data"
    },
    {
     "name": "stderr",
     "output_type": "stream",
     "text": [
      "2025-01-30 12:52:35,365 [INFO] httpx - HTTP Request: POST https://api.openai.com/v1/chat/completions \"HTTP/1.1 200 OK\"\n"
     ]
    }
   ],
   "execution_count": 53
  },
  {
   "metadata": {
    "ExecuteTime": {
     "end_time": "2025-01-30T03:52:46.642110Z",
     "start_time": "2025-01-30T03:52:46.639559Z"
    }
   },
   "cell_type": "code",
   "source": "print('\\n'.join(output))",
   "id": "16253af4248e4fcd",
   "outputs": [
    {
     "name": "stdout",
     "output_type": "stream",
     "text": [
      "삼성전자의 현재 주가에 대한 투자 결정을 고려할 때, 여러 요소를 분석해볼 필요가 있습니다.\n",
      "\n",
      "1. **주가 현황**: 삼성전자는 최근 5만4300원에 거래되고 있으며, 이는 지난해 1월 22일 종가인 7만5100원과 비교해 28% 하락한 수치입니다. 또한, 반년 전 52주 최고가인 8만8800원 대비 39% 낮은 가격입니다.\n",
      "\n",
      "2. **외국인 투자자 매도**: 외국인 투자자들이 올해 들어 삼성전자를 대규모로 매도하고 있으며, 이는 주가 하락의 주요 원인 중 하나입니다. 1월 2일부터 21일 사이에만 7603억원어치를 순매도했습니다.\n",
      "\n",
      "3. **실적 및 전망**: 삼성전자는 지난해 4분기 연결 매출액 75조원, 영업이익 6조5000억원을 기록했으나, 전 분기 대비 각각 5.18%, 29.19% 감소했습니다. 이는 시장 기대치를 밑돌며 부진한 실적을 나타냅니다. 그러나 전문가들은 현재 주가가 '딥밸류' 구간에 있으며, 저가 매수 전략이 유효하다고 평가하고 있습니다.\n",
      "\n",
      "4. **미래 전망**: 증권가에서는 올해 하반기부터 실적 개선이 예상되며, '갤럭시 S25' 발매와 메모리 반도체 수급 개선이 주요 상승 동력으로 작용할 것으로 보입니다. 또한, 현재 주가는 대부분의 악재를 반영한 상태로, 작은 호재에도 민감하게 반응할 가능성이 있습니다.\n",
      "\n",
      "결론적으로, 삼성전자는 현재 저가 매수 기회로 평가받고 있으며, 향후 실적 개선이 기대되는 상황입니다. 그러나 외국인 투자자의 매도세와 부진한 실적이 여전히 주가에 부담을 주고 있으므로, 신중한 접근이 필요합니다. \n",
      "\n",
      "**예측일 뿐이며, 실제 투자 판단은 본인의 책임입니다.**\n"
     ]
    }
   ],
   "execution_count": 55
  },
  {
   "metadata": {},
   "cell_type": "code",
   "outputs": [],
   "execution_count": null,
   "source": [
    "# ----------------------------------------------------------\n",
    "# 3-1. Multi-Query generation with a local HF model + prompt\n",
    "# ----------------------------------------------------------\n",
    "def generate_multi_queries_locally(user_query: str) -> List[str]:\n",
    "    \"\"\"\n",
    "    Example of using a local Hugging Face model (causal LM or instruct model)\n",
    "    to produce multi-queries. \n",
    "    \"\"\"\n",
    "    # For demonstration, use a small model. In reality, \n",
    "    # you might want a more capable instruct or T5 model, e.g. 'google/flan-t5-base'\n",
    "    local_model_name = \"microsoft/GPT-2-1.5B-125M\"  # (hypothetical small model)\n",
    "    # If the model doesn't exist, replace with a real HF model\n",
    "    tokenizer = AutoTokenizer.from_pretrained(local_model_name)\n",
    "    model = AutoModelForCausalLM.from_pretrained(local_model_name)\n",
    "    text_gen = pipeline(\"text-generation\", model=model, tokenizer=tokenizer)\n",
    "\n",
    "    # A domain-specific prompt\n",
    "    local_prompt = (\n",
    "        f\"사용자 질의(증권/주식 관련): '{user_query}'\\n\\n\"\n",
    "        \"위 질의를 재구성하여, 서로 다른 관점과 핵심 용어를 추가한 최소 3개의 유사 질의를 만들어 주세요.\\n\"\n",
    "        \"각 질의는 증권/금융 용어를 적극 활용하고, 서로 겹치지 않도록 최대한 다르게 표현합니다:\\n\\n\"\n",
    "    )\n",
    "    response = text_gen(local_prompt, max_length=256, num_return_sequences=1, do_sample=True)\n",
    "    # parse out the queries\n",
    "    # For simplicity, we assume the model returns them in a list form or separated lines\n",
    "    text_out = response[0][\"generated_text\"]\n",
    "    # naive split by newlines\n",
    "    candidate_lines = [line.strip() for line in text_out.split(\"\\n\") if line.strip() != \"\"]\n",
    "\n",
    "    # Filter to get only the lines that look like queries\n",
    "    multi_queries = []\n",
    "    for line in candidate_lines:\n",
    "        # A simple heuristic\n",
    "        if \"?\" in line or \"질의:\" in line:\n",
    "            multi_queries.append(line)\n",
    "    # If we didn't parse well, fallback\n",
    "    if len(multi_queries) < 3:\n",
    "        multi_queries = candidate_lines[-3:]  # last 3 lines\n",
    "\n",
    "    logger.info(\"Local HF-based multi-queries:\")\n",
    "    for mq in multi_queries:\n",
    "        logger.info(f\"- {mq}\")\n",
    "    return multi_queries"
   ],
   "id": "22abefcb98dc3a58"
  }
 ],
 "metadata": {
  "kernelspec": {
   "display_name": "Python 3",
   "language": "python",
   "name": "python3"
  },
  "language_info": {
   "codemirror_mode": {
    "name": "ipython",
    "version": 2
   },
   "file_extension": ".py",
   "mimetype": "text/x-python",
   "name": "python",
   "nbconvert_exporter": "python",
   "pygments_lexer": "ipython2",
   "version": "2.7.6"
  }
 },
 "nbformat": 4,
 "nbformat_minor": 5
}
